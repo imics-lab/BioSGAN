{
 "cells": [
  {
   "cell_type": "markdown",
   "metadata": {},
   "source": [
    "### Build CNN Conditional GAN to generate synthetic cifar 10 data\n",
    "Traditional Conditional GAN label embedding: embed labels to both generator and discriminator"
   ]
  },
  {
   "cell_type": "code",
   "execution_count": 67,
   "metadata": {},
   "outputs": [],
   "source": [
    "import torch\n",
    "import torchvision\n",
    "import torch.nn as nn\n",
    "from torchvision import transforms, datasets\n",
    "from torch import optim as optim"
   ]
  },
  {
   "cell_type": "code",
   "execution_count": 68,
   "metadata": {},
   "outputs": [
    {
     "name": "stdout",
     "output_type": "stream",
     "text": [
      "cuda\n"
     ]
    }
   ],
   "source": [
    "device = torch.device(\"cuda\" if torch.cuda.is_available() else \"cpu\")\n",
    "print(device)"
   ]
  },
  {
   "cell_type": "code",
   "execution_count": 69,
   "metadata": {},
   "outputs": [],
   "source": [
    "training_parameters = {\n",
    "    \"n_epochs\": 100,\n",
    "    \"batch_size\": 100,\n",
    "}\n",
    "data_loader = torch.utils.data.DataLoader(\n",
    "  \n",
    "datasets.MNIST('./', train=True, download=True,\n",
    "                         transform=transforms.Compose([\n",
    "                           transforms.ToTensor(),\n",
    "                           transforms.Normalize(\n",
    "                             (0.5,), (0.5,))\n",
    "                         ])),\n",
    "batch_size=training_parameters[\"batch_size\"], shuffle=True)"
   ]
  },
  {
   "cell_type": "code",
   "execution_count": 70,
   "metadata": {},
   "outputs": [
    {
     "name": "stdout",
     "output_type": "stream",
     "text": [
      "torch.Size([100, 1, 28, 28])\n"
     ]
    },
    {
     "data": {
      "image/png": "[encoded data removed]",
      "text/plain": [
       "<Figure size 432x288 with 1 Axes>"
      ]
     },
     "metadata": {
      "needs_background": "light"
     },
     "output_type": "display_data"
    }
   ],
   "source": [
    "%matplotlib inline \n",
    "from matplotlib import pyplot as plt\n",
    "\n",
    "for x,_ in data_loader:\n",
    "    print(x.shape)\n",
    "    plt.imshow(x.numpy()[0][0], cmap='gray')\n",
    "    break"
   ]
  },
  {
   "cell_type": "code",
   "execution_count": 71,
   "metadata": {},
   "outputs": [],
   "source": [
    "class Generator1(nn.Module):\n",
    "    def __init__(self):\n",
    "        super(Generator1, self).__init__()\n",
    "        image_size = 28\n",
    "        latent_dim = 100\n",
    "        output_channels = 1\n",
    "        self.init_size = image_size // 4\n",
    "        self.l1 = nn.Sequential(nn.Linear(latent_dim, 128 * self.init_size ** 2))\n",
    "        self.label_embedding = nn.Embedding(10, 10)\n",
    "        self.l2 = nn.Linear(10, self.init_size * self.init_size)\n",
    "\n",
    "        self.conv_blocks = nn.Sequential(\n",
    "            nn.BatchNorm2d(129),\n",
    "            nn.Upsample(scale_factor=2),\n",
    "            nn.Conv2d(129, 128, 3, stride=1, padding=1),\n",
    "            nn.BatchNorm2d(128, 0.8),\n",
    "            nn.LeakyReLU(0.2, inplace=True),\n",
    "            nn.Upsample(scale_factor=2),\n",
    "            nn.Conv2d(128, 64, 3, stride=1, padding=1),\n",
    "            nn.BatchNorm2d(64, 0.8),\n",
    "            nn.LeakyReLU(0.2, inplace=True),\n",
    "            nn.Conv2d(64, output_channels, 3, stride=1, padding=1),\n",
    "            nn.Tanh(),\n",
    "        )\n",
    "\n",
    "    def forward(self, z, labels):\n",
    "# #         print(z.shape)\n",
    "        out = self.l1(z)\n",
    "        out = out.view(out.shape[0], 128, self.init_size, self.init_size) # bh, 128, 8, 8\n",
    "# #         print(out.shape)\n",
    "        \n",
    "        li = self.label_embedding(labels)\n",
    "# #         print(li.shape)\n",
    "        li = self.l2(li)\n",
    "# #         print(li.shape)\n",
    "        li = li.view(labels.shape[0], 1, self.init_size, self.init_size)\n",
    "# #         print(li.shape)\n",
    "        out = torch.cat([out, li], 1)\n",
    "# #         print(out.shape)\n",
    "        \n",
    "        img = self.conv_blocks(out)\n",
    "# #         print(img.shape)\n",
    "        return img\n",
    "'''\n",
    "z shape torch.Size([100, 100])\n",
    "z shape after view torch.Size([100, 128, 7, 7])\n",
    "label embedding shape torch.Size([100, 10])\n",
    "label embedding after l2 torch.Size([100, 49])\n",
    "label embedding after view torch.Size([100, 1, 7, 7])\n",
    "concatenate z and label embedding torch.Size([100, 129, 7, 7])\n",
    "after convolution layers torch.Size([100, 1, 28, 28])\n",
    "'''\n",
    "\n",
    "class Generator2(nn.Module):\n",
    "    def __init__(self):\n",
    "        super(Generator2, self).__init__()\n",
    "        image_size = 28\n",
    "        latent_dim = 100\n",
    "        number_classes = 10\n",
    "        output_channels = 1\n",
    "        self.init_size = image_size // 4\n",
    "        self.l1 = nn.Sequential(nn.Linear(110, 128 * self.init_size ** 2))\n",
    "        self.label_embedding = nn.Embedding(10, 10)\n",
    "\n",
    "        self.conv_blocks = nn.Sequential(\n",
    "            nn.BatchNorm2d(128),\n",
    "            nn.Upsample(scale_factor=2),\n",
    "            nn.Conv2d(128, 128, 3, stride=1, padding=1),\n",
    "            nn.BatchNorm2d(128, 0.8),\n",
    "            nn.LeakyReLU(0.2, inplace=True),\n",
    "            nn.Upsample(scale_factor=2),\n",
    "            nn.Conv2d(128, 64, 3, stride=1, padding=1),\n",
    "            nn.BatchNorm2d(64, 0.8),\n",
    "            nn.LeakyReLU(0.2, inplace=True),\n",
    "            nn.Conv2d(64, output_channels, 3, stride=1, padding=1),\n",
    "            nn.Tanh(),\n",
    "        )\n",
    "\n",
    "    def forward(self, z, labels):\n",
    "        li = self.label_embedding(labels)\n",
    "        out = torch.cat([z, li], 1)\n",
    "#         print(f'li shape {li.shape}, z shape {z.shape}, out shape {out.shape}') # bh, 10    bh, 100    bh, 110\n",
    "        out = self.l1(out)\n",
    "        out = out.view(out.shape[0], 128, self.init_size, self.init_size) # bh, 128, 8, 8\n",
    "        img = self.conv_blocks(out)\n",
    "        \n",
    "        return img\n",
    "    \n",
    "class Generator3(nn.Module):\n",
    "    def __init__(self):\n",
    "        super(Generator3, self).__init__()\n",
    "        image_size = 28\n",
    "        latent_dim = 100\n",
    "        output_channels = 1\n",
    "        self.init_size = image_size // 4\n",
    "        self.l1 = nn.Sequential(nn.Linear(latent_dim, 128 * self.init_size ** 2))\n",
    "        self.label_embedding = nn.Embedding(10, 10)\n",
    "        self.l2 = nn.Linear(10, self.init_size * self.init_size)\n",
    "\n",
    "        self.conv_blocks = nn.Sequential(\n",
    "            nn.BatchNorm2d(128),\n",
    "            nn.Upsample(scale_factor=2),\n",
    "            nn.Conv2d(128, 128, 3, stride=1, padding=1),\n",
    "            nn.BatchNorm2d(128, 0.8),\n",
    "            nn.LeakyReLU(0.2, inplace=True),\n",
    "            nn.Upsample(scale_factor=2),\n",
    "            nn.Conv2d(128, 64, 3, stride=1, padding=1),\n",
    "            nn.BatchNorm2d(64, 0.8),\n",
    "            nn.LeakyReLU(0.2, inplace=True),\n",
    "            nn.Conv2d(64, output_channels, 3, stride=1, padding=1),\n",
    "            nn.Tanh(),\n",
    "        )\n",
    "\n",
    "    def forward(self, z, labels):\n",
    "# #         print(z.shape)\n",
    "        out = self.l1(z)\n",
    "        out = out.view(out.shape[0], 128, self.init_size, self.init_size) # bh, 128, 7, 7\n",
    "# #         print(out.shape)\n",
    "        \n",
    "        li = self.label_embedding(labels)\n",
    "# #         print(li.shape)\n",
    "        li = self.l2(li)\n",
    "# #         print(li.shape)\n",
    "        li = li.view(labels.shape[0], 1, self.init_size, self.init_size) #bh, 1, 7, 7\n",
    "# #         print(li.shape)\n",
    "#         out = torch.cat([out, li], 1)\n",
    "#         print(out[0].shape)　#128, 7, 7\n",
    "        out[0] + li\n",
    "#         print(out.shape) #bh, 128, 7, 7\n",
    "        \n",
    "        img = self.conv_blocks(out)\n",
    "# #         print(img.shape)\n",
    "        return img\n"
   ]
  },
  {
   "cell_type": "code",
   "execution_count": 72,
   "metadata": {},
   "outputs": [],
   "source": [
    "class Discriminator1(nn.Module):\n",
    "    def __init__(self):\n",
    "        super(Discriminator1, self).__init__()\n",
    "        self.image_size = 28\n",
    "        self.output_channels = 1 + 1\n",
    "        def discriminator_block(in_filters, out_filters, bn=True):\n",
    "            block = [nn.Conv2d(in_filters, out_filters, 3, 2, 1), nn.LeakyReLU(0.2, inplace=True), nn.Dropout2d(0.25)]\n",
    "            if bn:\n",
    "                block.append(nn.BatchNorm2d(out_filters, 0.8))\n",
    "            return block\n",
    "\n",
    "        self.model = nn.Sequential(\n",
    "            *discriminator_block(self.output_channels, 16, bn=False),\n",
    "            *discriminator_block(16, 32),\n",
    "            *discriminator_block(32, 64),\n",
    "            *discriminator_block(64, 128),\n",
    "        )\n",
    "        self.label_embedding = nn.Embedding(10, 10)\n",
    "        self.l1 = nn.Linear(10, self.image_size * self.image_size)\n",
    "\n",
    "        # The height and width of downsampled image\n",
    "        ds_size = self.image_size // 2 ** 4\n",
    "        self.adv_layer = nn.Sequential(nn.Linear(512, 1), nn.Sigmoid())\n",
    "        \n",
    "\n",
    "    def forward(self, img, labels):\n",
    "#         print(img.shape)\n",
    "        li = self.label_embedding(labels)\n",
    "        li = self.l1(li)\n",
    "#         print(li.shape)\n",
    "        li = li.view(labels.shape[0], 1, self.image_size, self.image_size)\n",
    "#         print(li.shape)\n",
    "        img = torch.cat([img, li], 1)\n",
    "#         print(img.shape)\n",
    "        \n",
    "        out = self.model(img)\n",
    "#         print(out.shape)\n",
    "        out = out.view(out.shape[0], -1)\n",
    "#         print(out.shape)\n",
    "        validity = self.adv_layer(out)\n",
    "#         print(validity)\n",
    "\n",
    "        return validity\n",
    "    \n",
    "'''\n",
    "image shape torch.Size([100, 1, 28, 28])\n",
    "label embedding after l1 shape torch.Size([100, 784])\n",
    "label embedding after reshape torch.Size([100, 1, 28, 28])\n",
    "concatenate image and label embedding torch.Size([100, 2, 28, 28])\n",
    "feature map size after convolution layers torch.Size([100, 128, 2, 2])\n",
    "feature map to dense layer torch.Size([100, 512])\n",
    "'''\n",
    "\n",
    "# output two number\n",
    "class Discriminator2(nn.Module):\n",
    "    def __init__(self):\n",
    "        super(Discriminator2, self).__init__()\n",
    "        self.image_size = 28\n",
    "        self.output_channels = 1 + 1\n",
    "        def discriminator_block(in_filters, out_filters, bn=True):\n",
    "            block = [nn.Conv2d(in_filters, out_filters, 3, 2, 1), nn.LeakyReLU(0.2, inplace=True), nn.Dropout2d(0.25)]\n",
    "            if bn:\n",
    "                block.append(nn.BatchNorm2d(out_filters, 0.8))\n",
    "            return block\n",
    "\n",
    "        self.model = nn.Sequential(\n",
    "            *discriminator_block(self.output_channels, 16, bn=False),\n",
    "            *discriminator_block(16, 32),\n",
    "            *discriminator_block(32, 64),\n",
    "            *discriminator_block(64, 128),\n",
    "        )\n",
    "        self.label_embedding = nn.Embedding(10, 10)\n",
    "        self.l1 = nn.Linear(10, self.image_size * self.image_size)\n",
    "\n",
    "        # The height and width of downsampled image\n",
    "        ds_size = self.image_size // 2 ** 4\n",
    "        self.adv_layer = nn.Sequential(nn.Linear(512, 1), nn.Sigmoid())\n",
    "        \n",
    "#         self.conv1 = nn.Conv2d(curr_dim, 1, kernel_size=3, stride=1, padding=1, bias=False)\n",
    "#         self.conv2 = nn.Conv2d(curr_dim, c_dim, kernel_size=kernel_size, bias=False)\n",
    "        \n",
    "\n",
    "    def forward(self, img, labels):\n",
    "#         print(img.shape)\n",
    "        li = self.label_embedding(labels)\n",
    "        li = self.l1(li)\n",
    "#         print(li.shape)\n",
    "        li = li.view(labels.shape[0], 1, self.image_size, self.image_size)\n",
    "#         print(li.shape)\n",
    "        img = torch.cat([img, li], 1)\n",
    "#         print(img.shape)\n",
    "        \n",
    "        out = self.model(img)\n",
    "#         print(out.shape)\n",
    "        out = out.view(out.shape[0], -1)\n",
    "#         print(out.shape)\n",
    "        validity = self.adv_layer(out)\n",
    "#         print(validity)\n",
    "        h = self.main(x)\n",
    "    \n",
    "#         out_src = self.conv1(h)\n",
    "#         out_cls = self.conv2(h)\n",
    "#         return out_src, out_cls.view(out_cls.size(0), out_cls.size(1))\n",
    "        return validity"
   ]
  },
  {
   "cell_type": "code",
   "execution_count": 73,
   "metadata": {},
   "outputs": [
    {
     "data": {
      "text/plain": [
       "Generator3(\n",
       "  (l1): Sequential(\n",
       "    (0): Linear(in_features=100, out_features=6272, bias=True)\n",
       "  )\n",
       "  (label_embedding): Embedding(10, 10)\n",
       "  (l2): Linear(in_features=10, out_features=49, bias=True)\n",
       "  (conv_blocks): Sequential(\n",
       "    (0): BatchNorm2d(128, eps=1e-05, momentum=0.1, affine=True, track_running_stats=True)\n",
       "    (1): Upsample(scale_factor=2.0, mode=nearest)\n",
       "    (2): Conv2d(128, 128, kernel_size=(3, 3), stride=(1, 1), padding=(1, 1))\n",
       "    (3): BatchNorm2d(128, eps=0.8, momentum=0.1, affine=True, track_running_stats=True)\n",
       "    (4): LeakyReLU(negative_slope=0.2, inplace=True)\n",
       "    (5): Upsample(scale_factor=2.0, mode=nearest)\n",
       "    (6): Conv2d(128, 64, kernel_size=(3, 3), stride=(1, 1), padding=(1, 1))\n",
       "    (7): BatchNorm2d(64, eps=0.8, momentum=0.1, affine=True, track_running_stats=True)\n",
       "    (8): LeakyReLU(negative_slope=0.2, inplace=True)\n",
       "    (9): Conv2d(64, 1, kernel_size=(3, 3), stride=(1, 1), padding=(1, 1))\n",
       "    (10): Tanh()\n",
       "  )\n",
       ")"
      ]
     },
     "execution_count": 73,
     "metadata": {},
     "output_type": "execute_result"
    }
   ],
   "source": [
    "discriminator1 = Discriminator1()\n",
    "generator1 = Generator1()\n",
    "generator2 = Generator2()\n",
    "generator3 = Generator3()\n",
    "discriminator1.to(device)\n",
    "generator1.to(device)\n",
    "generator2.to(device)\n",
    "generator3.to(device)"
   ]
  },
  {
   "cell_type": "code",
   "execution_count": 74,
   "metadata": {},
   "outputs": [],
   "source": [
    "noise = torch.randn(100,100).to(device)\n",
    "fake_labels = torch.randint(0, 10, (100,)).to(device)\n",
    "generated_data = generator(noise, fake_labels)"
   ]
  },
  {
   "cell_type": "code",
   "execution_count": 75,
   "metadata": {},
   "outputs": [],
   "source": [
    "discriminator_output_for_generated_data = discriminator(generated_data.detach(), fake_labels).view(100)"
   ]
  },
  {
   "cell_type": "code",
   "execution_count": 76,
   "metadata": {},
   "outputs": [],
   "source": [
    "def train(generator, discriminator, data_loader, model_name='model_name'):\n",
    "    n_epochs = 100\n",
    "    batch_size = 100\n",
    "    discriminator_optimizer = optim.Adam(discriminator.parameters(), lr=0.0002)\n",
    "    generator_optimizer = optim.Adam(generator.parameters(), lr=0.0002)\n",
    "\n",
    "    loss = nn.BCELoss()\n",
    "    for epoch_idx in range(n_epochs):\n",
    "        G_loss = []\n",
    "        D_loss = []\n",
    "        for batch_idx, data_input in enumerate(data_loader):\n",
    "\n",
    "\n",
    "            noise = torch.randn(batch_size,100).to(device)\n",
    "            fake_labels = torch.randint(0, 10, (batch_size,)).to(device)\n",
    "            generated_data = generator(noise, fake_labels)\n",
    "\n",
    "\n",
    "            # Discriminator\n",
    "            true_data = data_input[0].to(device)\n",
    "            digit_labels = data_input[1].to(device) # batch_size\n",
    "            true_labels = torch.ones(batch_size).to(device)\n",
    "\n",
    "            discriminator_optimizer.zero_grad()\n",
    "\n",
    "            discriminator_output_for_true_data = discriminator(true_data, digit_labels).view(batch_size)\n",
    "            true_discriminator_loss = loss(discriminator_output_for_true_data, true_labels)\n",
    "\n",
    "            discriminator_output_for_generated_data = discriminator(generated_data.detach(), fake_labels).view(batch_size)\n",
    "            generator_discriminator_loss = loss(\n",
    "                discriminator_output_for_generated_data, torch.zeros(batch_size).to(device)\n",
    "            )\n",
    "            discriminator_loss = (\n",
    "                true_discriminator_loss + generator_discriminator_loss\n",
    "            ) / 2\n",
    "\n",
    "            discriminator_loss.backward()\n",
    "            discriminator_optimizer.step()\n",
    "\n",
    "            D_loss.append(discriminator_loss.data.item())\n",
    "\n",
    "\n",
    "            # Generator\n",
    "\n",
    "            generator_optimizer.zero_grad()\n",
    "            # It's a choice to generate the data again\n",
    "            generated_data = generator(noise, fake_labels)\n",
    "            discriminator_output_on_generated_data = discriminator(generated_data, fake_labels).view(batch_size)\n",
    "            generator_loss = loss(discriminator_output_on_generated_data, true_labels)\n",
    "            generator_loss.backward()\n",
    "            generator_optimizer.step()\n",
    "\n",
    "            G_loss.append(generator_loss.data.item())\n",
    "            if ((batch_idx + 1)% 500 == 0 and (epoch_idx + 1)%10 == 0):\n",
    "                print(\"Training Steps Completed: \", batch_idx)\n",
    "\n",
    "                with torch.no_grad():\n",
    "                    noise = torch.randn(batch_size,100).to(device)\n",
    "                    fake_labels = torch.randint(0, 10, (batch_size,)).to(device)\n",
    "                    generated_data = generator(noise, fake_labels).cpu().view(batch_size, 28, 28)\n",
    "                    for x in generated_data:\n",
    "                        print(fake_labels[0].item())\n",
    "                        plt.imshow(x.detach().numpy(), interpolation='nearest',cmap='gray')\n",
    "                        plt.show()\n",
    "                        break\n",
    "\n",
    "\n",
    "        print('[%d/%d]: loss_d: %.3f, loss_g: %.3f' % (\n",
    "                (epoch_idx), n_epochs, torch.mean(torch.FloatTensor(D_loss)), torch.mean(torch.FloatTensor(G_loss))))\n",
    "        \n",
    "        torch.save(generator, f'./{model_name}.pt')"
   ]
  },
  {
   "cell_type": "code",
   "execution_count": 77,
   "metadata": {},
   "outputs": [],
   "source": [
    "#load model and generate 0 - 9 images\n",
    "def draw_images(model_name):\n",
    "    generator = torch.load(model_name)\n",
    "    with torch.no_grad():\n",
    "        noise = torch.randn(10,100).to(device)\n",
    "        labels = torch.IntTensor([0, 1, 2, 3, 4, 5, 6, 7, 8, 9]).to(device)\n",
    "#         labels = torch.range(0, 9)\n",
    "        generated_data = generator(noise, labels).cpu().view(10, 28, 28)\n",
    "\n",
    "    fig, axs = plt.subplots(1, 10, figsize=(20,2))\n",
    "    for i in range(10):\n",
    "        axs[i].imshow(generated_data[i].detach().numpy(), interpolation='nearest',cmap='gray')\n",
    "    fig.savefig(f'{model_name}_syn.pdf')"
   ]
  },
  {
   "cell_type": "code",
   "execution_count": 78,
   "metadata": {
    "collapsed": true,
    "jupyter": {
     "outputs_hidden": true
    }
   },
   "outputs": [
    {
     "name": "stdout",
     "output_type": "stream",
     "text": [
      "[0/100]: loss_d: 0.650, loss_g: 0.778\n",
      "[1/100]: loss_d: 0.415, loss_g: 1.444\n",
      "[2/100]: loss_d: 0.464, loss_g: 1.386\n",
      "[3/100]: loss_d: 0.557, loss_g: 1.193\n",
      "[4/100]: loss_d: 0.562, loss_g: 1.142\n",
      "[5/100]: loss_d: 0.554, loss_g: 1.113\n",
      "[6/100]: loss_d: 0.536, loss_g: 1.203\n",
      "[7/100]: loss_d: 0.495, loss_g: 1.271\n",
      "[8/100]: loss_d: 0.465, loss_g: 1.375\n",
      "Training Steps Completed:  499\n",
      "4\n"
     ]
    },
    {
     "data": {
      "image/png": "[encoded data removed]",
      "text/plain": [
       "<Figure size 432x288 with 1 Axes>"
      ]
     },
     "metadata": {
      "needs_background": "light"
     },
     "output_type": "display_data"
    },
    {
     "name": "stdout",
     "output_type": "stream",
     "text": [
      "[9/100]: loss_d: 0.438, loss_g: 1.498\n",
      "[10/100]: loss_d: 0.441, loss_g: 1.516\n",
      "[11/100]: loss_d: 0.478, loss_g: 1.403\n",
      "[12/100]: loss_d: 0.495, loss_g: 1.351\n",
      "[13/100]: loss_d: 0.498, loss_g: 1.407\n",
      "[14/100]: loss_d: 0.530, loss_g: 1.293\n",
      "[15/100]: loss_d: 0.526, loss_g: 1.227\n",
      "[16/100]: loss_d: 0.538, loss_g: 1.220\n",
      "[17/100]: loss_d: 0.540, loss_g: 1.221\n",
      "[18/100]: loss_d: 0.537, loss_g: 1.171\n",
      "Training Steps Completed:  499\n",
      "6\n"
     ]
    },
    {
     "data": {
      "image/png": "[encoded data removed]",
      "text/plain": [
       "<Figure size 432x288 with 1 Axes>"
      ]
     },
     "metadata": {
      "needs_background": "light"
     },
     "output_type": "display_data"
    },
    {
     "name": "stdout",
     "output_type": "stream",
     "text": [
      "[19/100]: loss_d: 0.576, loss_g: 1.186\n",
      "[20/100]: loss_d: 0.583, loss_g: 1.131\n",
      "[21/100]: loss_d: 0.596, loss_g: 1.069\n",
      "[22/100]: loss_d: 0.599, loss_g: 1.038\n",
      "[23/100]: loss_d: 0.604, loss_g: 1.045\n",
      "[24/100]: loss_d: 0.614, loss_g: 1.036\n",
      "[25/100]: loss_d: 0.600, loss_g: 1.022\n",
      "[26/100]: loss_d: 0.599, loss_g: 1.007\n",
      "[27/100]: loss_d: 0.607, loss_g: 0.998\n",
      "[28/100]: loss_d: 0.611, loss_g: 1.006\n",
      "Training Steps Completed:  499\n",
      "4\n"
     ]
    },
    {
     "data": {
      "image/png": "[encoded data removed]",
      "text/plain": [
       "<Figure size 432x288 with 1 Axes>"
      ]
     },
     "metadata": {
      "needs_background": "light"
     },
     "output_type": "display_data"
    },
    {
     "name": "stdout",
     "output_type": "stream",
     "text": [
      "[29/100]: loss_d: 0.597, loss_g: 0.996\n",
      "[30/100]: loss_d: 0.602, loss_g: 0.995\n",
      "[31/100]: loss_d: 0.599, loss_g: 1.006\n",
      "[32/100]: loss_d: 0.600, loss_g: 1.022\n",
      "[33/100]: loss_d: 0.601, loss_g: 1.059\n",
      "[34/100]: loss_d: 0.606, loss_g: 1.010\n",
      "[35/100]: loss_d: 0.619, loss_g: 0.977\n",
      "[36/100]: loss_d: 0.613, loss_g: 0.986\n",
      "[37/100]: loss_d: 0.615, loss_g: 0.982\n",
      "[38/100]: loss_d: 0.607, loss_g: 0.982\n",
      "Training Steps Completed:  499\n",
      "4\n"
     ]
    },
    {
     "data": {
      "image/png": "[encoded data removed]",
      "text/plain": [
       "<Figure size 432x288 with 1 Axes>"
      ]
     },
     "metadata": {
      "needs_background": "light"
     },
     "output_type": "display_data"
    },
    {
     "name": "stdout",
     "output_type": "stream",
     "text": [
      "[39/100]: loss_d: 0.597, loss_g: 0.968\n",
      "[40/100]: loss_d: 0.612, loss_g: 0.976\n",
      "[41/100]: loss_d: 0.615, loss_g: 0.968\n",
      "[42/100]: loss_d: 0.618, loss_g: 0.978\n",
      "[43/100]: loss_d: 0.594, loss_g: 1.000\n",
      "[44/100]: loss_d: 0.618, loss_g: 0.959\n",
      "[45/100]: loss_d: 0.612, loss_g: 0.965\n",
      "[46/100]: loss_d: 0.602, loss_g: 0.995\n",
      "[47/100]: loss_d: 0.607, loss_g: 0.958\n",
      "[48/100]: loss_d: 0.596, loss_g: 0.986\n",
      "Training Steps Completed:  499\n",
      "0\n"
     ]
    },
    {
     "data": {
      "image/png": "[encoded data removed]",
      "text/plain": [
       "<Figure size 432x288 with 1 Axes>"
      ]
     },
     "metadata": {
      "needs_background": "light"
     },
     "output_type": "display_data"
    },
    {
     "name": "stdout",
     "output_type": "stream",
     "text": [
      "[49/100]: loss_d: 0.607, loss_g: 0.967\n",
      "[50/100]: loss_d: 0.598, loss_g: 0.975\n",
      "[51/100]: loss_d: 0.613, loss_g: 0.981\n",
      "[52/100]: loss_d: 0.610, loss_g: 0.978\n",
      "[53/100]: loss_d: 0.603, loss_g: 0.993\n",
      "[54/100]: loss_d: 0.607, loss_g: 0.966\n",
      "[55/100]: loss_d: 0.610, loss_g: 0.952\n",
      "[56/100]: loss_d: 0.598, loss_g: 0.989\n",
      "[57/100]: loss_d: 0.619, loss_g: 0.944\n",
      "[58/100]: loss_d: 0.604, loss_g: 0.969\n",
      "Training Steps Completed:  499\n",
      "2\n"
     ]
    },
    {
     "data": {
      "image/png": "[encoded data removed]",
      "text/plain": [
       "<Figure size 432x288 with 1 Axes>"
      ]
     },
     "metadata": {
      "needs_background": "light"
     },
     "output_type": "display_data"
    },
    {
     "name": "stdout",
     "output_type": "stream",
     "text": [
      "[59/100]: loss_d: 0.598, loss_g: 0.952\n",
      "[60/100]: loss_d: 0.615, loss_g: 0.976\n",
      "[61/100]: loss_d: 0.603, loss_g: 0.977\n",
      "[62/100]: loss_d: 0.612, loss_g: 0.967\n",
      "[63/100]: loss_d: 0.601, loss_g: 0.997\n",
      "[64/100]: loss_d: 0.618, loss_g: 0.959\n",
      "[65/100]: loss_d: 0.610, loss_g: 0.970\n",
      "[66/100]: loss_d: 0.602, loss_g: 0.946\n",
      "[67/100]: loss_d: 0.595, loss_g: 0.971\n",
      "[68/100]: loss_d: 0.612, loss_g: 0.979\n",
      "Training Steps Completed:  499\n",
      "4\n"
     ]
    },
    {
     "data": {
      "image/png": "[encoded data removed]",
      "text/plain": [
       "<Figure size 432x288 with 1 Axes>"
      ]
     },
     "metadata": {
      "needs_background": "light"
     },
     "output_type": "display_data"
    },
    {
     "name": "stdout",
     "output_type": "stream",
     "text": [
      "[69/100]: loss_d: 0.602, loss_g: 0.988\n",
      "[70/100]: loss_d: 0.600, loss_g: 0.971\n",
      "[71/100]: loss_d: 0.610, loss_g: 0.953\n",
      "[72/100]: loss_d: 0.608, loss_g: 0.967\n",
      "[73/100]: loss_d: 0.605, loss_g: 0.970\n",
      "[74/100]: loss_d: 0.599, loss_g: 0.981\n",
      "[75/100]: loss_d: 0.606, loss_g: 0.948\n",
      "[76/100]: loss_d: 0.592, loss_g: 0.970\n",
      "[77/100]: loss_d: 0.607, loss_g: 0.979\n",
      "[78/100]: loss_d: 0.603, loss_g: 0.971\n",
      "Training Steps Completed:  499\n",
      "3\n"
     ]
    },
    {
     "data": {
      "image/png": "[encoded data removed]",
      "text/plain": [
       "<Figure size 432x288 with 1 Axes>"
      ]
     },
     "metadata": {
      "needs_background": "light"
     },
     "output_type": "display_data"
    },
    {
     "name": "stdout",
     "output_type": "stream",
     "text": [
      "[79/100]: loss_d: 0.613, loss_g: 0.964\n",
      "[80/100]: loss_d: 0.614, loss_g: 0.939\n",
      "[81/100]: loss_d: 0.607, loss_g: 0.981\n",
      "[82/100]: loss_d: 0.615, loss_g: 0.935\n",
      "[83/100]: loss_d: 0.602, loss_g: 0.949\n",
      "[84/100]: loss_d: 0.600, loss_g: 0.972\n",
      "[85/100]: loss_d: 0.613, loss_g: 0.964\n",
      "[86/100]: loss_d: 0.612, loss_g: 0.955\n",
      "[87/100]: loss_d: 0.602, loss_g: 0.974\n",
      "[88/100]: loss_d: 0.598, loss_g: 1.006\n",
      "Training Steps Completed:  499\n",
      "5\n"
     ]
    },
    {
     "data": {
      "image/png": "[encoded data removed]",
      "text/plain": [
       "<Figure size 432x288 with 1 Axes>"
      ]
     },
     "metadata": {
      "needs_background": "light"
     },
     "output_type": "display_data"
    },
    {
     "name": "stdout",
     "output_type": "stream",
     "text": [
      "[89/100]: loss_d: 0.595, loss_g: 1.009\n",
      "[90/100]: loss_d: 0.590, loss_g: 0.984\n",
      "[91/100]: loss_d: 0.611, loss_g: 0.999\n",
      "[92/100]: loss_d: 0.603, loss_g: 0.971\n",
      "[93/100]: loss_d: 0.609, loss_g: 0.999\n",
      "[94/100]: loss_d: 0.620, loss_g: 0.969\n",
      "[95/100]: loss_d: 0.599, loss_g: 0.979\n",
      "[96/100]: loss_d: 0.607, loss_g: 0.962\n",
      "[97/100]: loss_d: 0.604, loss_g: 1.023\n",
      "[98/100]: loss_d: 0.587, loss_g: 0.994\n",
      "Training Steps Completed:  499\n",
      "1\n"
     ]
    },
    {
     "data": {
      "image/png": "[encoded data removed]",
      "text/plain": [
       "<Figure size 432x288 with 1 Axes>"
      ]
     },
     "metadata": {
      "needs_background": "light"
     },
     "output_type": "display_data"
    },
    {
     "name": "stdout",
     "output_type": "stream",
     "text": [
      "[99/100]: loss_d: 0.599, loss_g: 1.026\n"
     ]
    }
   ],
   "source": [
    "discriminator1 = Discriminator1()\n",
    "generator1 = Generator1()\n",
    "discriminator1.to(device) \n",
    "generator1.to(device)\n",
    "train(generator1, discriminator1, data_loader, model_name='g1_d1_cnn')"
   ]
  },
  {
   "cell_type": "code",
   "execution_count": 79,
   "metadata": {},
   "outputs": [
    {
     "data": {
      "image/png": "[encoded data removed]",
      "text/plain": [
       "<Figure size 1440x144 with 10 Axes>"
      ]
     },
     "metadata": {
      "needs_background": "light"
     },
     "output_type": "display_data"
    }
   ],
   "source": [
    "draw_images('g1_d1_cnn.pt')"
   ]
  },
  {
   "cell_type": "code",
   "execution_count": 80,
   "metadata": {
    "collapsed": true,
    "jupyter": {
     "outputs_hidden": true
    }
   },
   "outputs": [
    {
     "name": "stdout",
     "output_type": "stream",
     "text": [
      "[0/100]: loss_d: 0.682, loss_g: 0.731\n",
      "[1/100]: loss_d: 0.683, loss_g: 0.724\n",
      "[2/100]: loss_d: 0.662, loss_g: 0.778\n",
      "[3/100]: loss_d: 0.689, loss_g: 0.742\n",
      "[4/100]: loss_d: 0.676, loss_g: 0.738\n",
      "[5/100]: loss_d: 0.671, loss_g: 0.756\n",
      "[6/100]: loss_d: 0.675, loss_g: 0.768\n",
      "[7/100]: loss_d: 0.670, loss_g: 0.767\n",
      "[8/100]: loss_d: 0.659, loss_g: 0.787\n",
      "Training Steps Completed:  499\n",
      "2\n"
     ]
    },
    {
     "data": {
      "image/png": "[encoded data removed]",
      "text/plain": [
       "<Figure size 432x288 with 1 Axes>"
      ]
     },
     "metadata": {
      "needs_background": "light"
     },
     "output_type": "display_data"
    },
    {
     "name": "stdout",
     "output_type": "stream",
     "text": [
      "[9/100]: loss_d: 0.639, loss_g: 0.840\n",
      "[10/100]: loss_d: 0.662, loss_g: 0.817\n",
      "[11/100]: loss_d: 0.607, loss_g: 0.923\n",
      "[12/100]: loss_d: 0.583, loss_g: 1.018\n",
      "[13/100]: loss_d: 0.536, loss_g: 1.125\n",
      "[14/100]: loss_d: 0.545, loss_g: 1.171\n",
      "[15/100]: loss_d: 0.476, loss_g: 1.390\n",
      "[16/100]: loss_d: 0.449, loss_g: 1.515\n",
      "[17/100]: loss_d: 0.528, loss_g: 1.383\n",
      "[18/100]: loss_d: 0.416, loss_g: 1.575\n",
      "Training Steps Completed:  499\n",
      "6\n"
     ]
    },
    {
     "data": {
      "image/png": "[encoded data removed]",
      "text/plain": [
       "<Figure size 432x288 with 1 Axes>"
      ]
     },
     "metadata": {
      "needs_background": "light"
     },
     "output_type": "display_data"
    },
    {
     "name": "stdout",
     "output_type": "stream",
     "text": [
      "[19/100]: loss_d: 0.400, loss_g: 1.767\n",
      "[20/100]: loss_d: 0.413, loss_g: 1.832\n",
      "[21/100]: loss_d: 0.350, loss_g: 2.004\n",
      "[22/100]: loss_d: 0.294, loss_g: 2.307\n",
      "[23/100]: loss_d: 0.442, loss_g: 1.895\n",
      "[24/100]: loss_d: 0.338, loss_g: 2.341\n",
      "[25/100]: loss_d: 0.379, loss_g: 2.084\n",
      "[26/100]: loss_d: 0.328, loss_g: 2.151\n",
      "[27/100]: loss_d: 0.251, loss_g: 2.461\n",
      "[28/100]: loss_d: 0.293, loss_g: 2.502\n",
      "Training Steps Completed:  499\n",
      "1\n"
     ]
    },
    {
     "data": {
      "image/png": "[encoded data removed]",
      "text/plain": [
       "<Figure size 432x288 with 1 Axes>"
      ]
     },
     "metadata": {
      "needs_background": "light"
     },
     "output_type": "display_data"
    },
    {
     "name": "stdout",
     "output_type": "stream",
     "text": [
      "[29/100]: loss_d: 0.262, loss_g: 2.646\n",
      "[30/100]: loss_d: 0.302, loss_g: 2.480\n",
      "[31/100]: loss_d: 0.158, loss_g: 3.410\n",
      "[32/100]: loss_d: 0.280, loss_g: 2.543\n",
      "[33/100]: loss_d: 0.216, loss_g: 3.170\n",
      "[34/100]: loss_d: 0.176, loss_g: 2.793\n",
      "[35/100]: loss_d: 0.094, loss_g: 3.798\n",
      "[36/100]: loss_d: 0.257, loss_g: 2.701\n",
      "[37/100]: loss_d: 0.388, loss_g: 2.104\n",
      "[38/100]: loss_d: 0.470, loss_g: 1.741\n",
      "Training Steps Completed:  499\n",
      "5\n"
     ]
    },
    {
     "data": {
      "image/png": "[encoded data removed]",
      "text/plain": [
       "<Figure size 432x288 with 1 Axes>"
      ]
     },
     "metadata": {
      "needs_background": "light"
     },
     "output_type": "display_data"
    },
    {
     "name": "stdout",
     "output_type": "stream",
     "text": [
      "[39/100]: loss_d: 0.437, loss_g: 1.808\n",
      "[40/100]: loss_d: 0.489, loss_g: 1.630\n",
      "[41/100]: loss_d: 0.465, loss_g: 1.620\n",
      "[42/100]: loss_d: 0.384, loss_g: 1.817\n",
      "[43/100]: loss_d: 0.440, loss_g: 1.673\n",
      "[44/100]: loss_d: 0.476, loss_g: 1.607\n",
      "[45/100]: loss_d: 0.502, loss_g: 1.623\n",
      "[46/100]: loss_d: 0.421, loss_g: 1.929\n",
      "[47/100]: loss_d: 0.450, loss_g: 1.731\n",
      "[48/100]: loss_d: 0.398, loss_g: 1.908\n",
      "Training Steps Completed:  499\n",
      "1\n"
     ]
    },
    {
     "data": {
      "image/png": "[encoded data removed]",
      "text/plain": [
       "<Figure size 432x288 with 1 Axes>"
      ]
     },
     "metadata": {
      "needs_background": "light"
     },
     "output_type": "display_data"
    },
    {
     "name": "stdout",
     "output_type": "stream",
     "text": [
      "[49/100]: loss_d: 0.475, loss_g: 1.813\n",
      "[50/100]: loss_d: 0.446, loss_g: 1.891\n",
      "[51/100]: loss_d: 0.438, loss_g: 1.844\n",
      "[52/100]: loss_d: 0.407, loss_g: 1.954\n",
      "[53/100]: loss_d: 0.324, loss_g: 2.189\n",
      "[54/100]: loss_d: 0.238, loss_g: 2.627\n",
      "[55/100]: loss_d: 0.349, loss_g: 2.126\n",
      "[56/100]: loss_d: 0.224, loss_g: 2.487\n",
      "[57/100]: loss_d: 0.292, loss_g: 2.211\n",
      "[58/100]: loss_d: 0.206, loss_g: 3.136\n",
      "Training Steps Completed:  499\n",
      "4\n"
     ]
    },
    {
     "data": {
      "image/png": "[encoded data removed]",
      "text/plain": [
       "<Figure size 432x288 with 1 Axes>"
      ]
     },
     "metadata": {
      "needs_background": "light"
     },
     "output_type": "display_data"
    },
    {
     "name": "stdout",
     "output_type": "stream",
     "text": [
      "[59/100]: loss_d: 0.322, loss_g: 2.338\n",
      "[60/100]: loss_d: 0.196, loss_g: 2.576\n",
      "[61/100]: loss_d: 0.144, loss_g: 3.124\n",
      "[62/100]: loss_d: 0.176, loss_g: 2.951\n",
      "[63/100]: loss_d: 0.177, loss_g: 2.989\n",
      "[64/100]: loss_d: 0.189, loss_g: 2.863\n",
      "[65/100]: loss_d: 0.337, loss_g: 2.300\n",
      "[66/100]: loss_d: 0.338, loss_g: 2.089\n",
      "[67/100]: loss_d: 0.391, loss_g: 2.028\n",
      "[68/100]: loss_d: 0.302, loss_g: 2.293\n",
      "Training Steps Completed:  499\n",
      "2\n"
     ]
    },
    {
     "data": {
      "image/png": "[encoded data removed]",
      "text/plain": [
       "<Figure size 432x288 with 1 Axes>"
      ]
     },
     "metadata": {
      "needs_background": "light"
     },
     "output_type": "display_data"
    },
    {
     "name": "stdout",
     "output_type": "stream",
     "text": [
      "[69/100]: loss_d: 0.387, loss_g: 2.026\n",
      "[70/100]: loss_d: 0.381, loss_g: 2.327\n",
      "[71/100]: loss_d: 0.336, loss_g: 2.214\n",
      "[72/100]: loss_d: 0.297, loss_g: 2.312\n",
      "[73/100]: loss_d: 0.171, loss_g: 3.079\n",
      "[74/100]: loss_d: 0.301, loss_g: 2.403\n",
      "[75/100]: loss_d: 0.396, loss_g: 1.827\n",
      "[76/100]: loss_d: 0.397, loss_g: 1.860\n",
      "[77/100]: loss_d: 0.494, loss_g: 1.605\n",
      "[78/100]: loss_d: 0.440, loss_g: 1.778\n",
      "Training Steps Completed:  499\n",
      "6\n"
     ]
    },
    {
     "data": {
      "image/png": "[encoded data removed]",
      "text/plain": [
       "<Figure size 432x288 with 1 Axes>"
      ]
     },
     "metadata": {
      "needs_background": "light"
     },
     "output_type": "display_data"
    },
    {
     "name": "stdout",
     "output_type": "stream",
     "text": [
      "[79/100]: loss_d: 0.415, loss_g: 1.825\n",
      "[80/100]: loss_d: 0.488, loss_g: 1.681\n",
      "[81/100]: loss_d: 0.300, loss_g: 2.037\n",
      "[82/100]: loss_d: 0.374, loss_g: 1.950\n",
      "[83/100]: loss_d: 0.330, loss_g: 2.140\n",
      "[84/100]: loss_d: 0.485, loss_g: 1.615\n",
      "[85/100]: loss_d: 0.430, loss_g: 1.678\n",
      "[86/100]: loss_d: 0.439, loss_g: 1.666\n",
      "[87/100]: loss_d: 0.400, loss_g: 1.810\n",
      "[88/100]: loss_d: 0.422, loss_g: 1.715\n",
      "Training Steps Completed:  499\n",
      "4\n"
     ]
    },
    {
     "data": {
      "image/png": "[encoded data removed]",
      "text/plain": [
       "<Figure size 432x288 with 1 Axes>"
      ]
     },
     "metadata": {
      "needs_background": "light"
     },
     "output_type": "display_data"
    },
    {
     "name": "stdout",
     "output_type": "stream",
     "text": [
      "[89/100]: loss_d: 0.298, loss_g: 2.256\n",
      "[90/100]: loss_d: 0.290, loss_g: 2.284\n",
      "[91/100]: loss_d: 0.273, loss_g: 2.412\n",
      "[92/100]: loss_d: 0.289, loss_g: 2.244\n",
      "[93/100]: loss_d: 0.272, loss_g: 2.363\n",
      "[94/100]: loss_d: 0.443, loss_g: 1.776\n",
      "[95/100]: loss_d: 0.356, loss_g: 2.001\n",
      "[96/100]: loss_d: 0.364, loss_g: 1.892\n",
      "[97/100]: loss_d: 0.434, loss_g: 1.632\n",
      "[98/100]: loss_d: 0.451, loss_g: 1.726\n",
      "Training Steps Completed:  499\n",
      "3\n"
     ]
    },
    {
     "data": {
      "image/png": "[encoded data removed]",
      "text/plain": [
       "<Figure size 432x288 with 1 Axes>"
      ]
     },
     "metadata": {
      "needs_background": "light"
     },
     "output_type": "display_data"
    },
    {
     "name": "stdout",
     "output_type": "stream",
     "text": [
      "[99/100]: loss_d: 0.431, loss_g: 1.778\n"
     ]
    }
   ],
   "source": [
    "discriminator1 = Discriminator1()\n",
    "generator2 = Generator2()\n",
    "discriminator1.to(device) \n",
    "generator2.to(device)\n",
    "train(generator2, discriminator1, data_loader, model_name='g2_d1_cnn')"
   ]
  },
  {
   "cell_type": "code",
   "execution_count": 81,
   "metadata": {},
   "outputs": [
    {
     "data": {
      "image/png": "[encoded data removed]",
      "text/plain": [
       "<Figure size 1440x144 with 10 Axes>"
      ]
     },
     "metadata": {
      "needs_background": "light"
     },
     "output_type": "display_data"
    }
   ],
   "source": [
    "draw_images('g2_d1_cnn.pt')"
   ]
  },
  {
   "cell_type": "code",
   "execution_count": 82,
   "metadata": {
    "collapsed": true,
    "jupyter": {
     "outputs_hidden": true
    }
   },
   "outputs": [
    {
     "name": "stdout",
     "output_type": "stream",
     "text": [
      "[0/100]: loss_d: 0.674, loss_g: 0.728\n",
      "[1/100]: loss_d: 0.322, loss_g: 2.042\n",
      "[2/100]: loss_d: 0.019, loss_g: 5.100\n",
      "[3/100]: loss_d: 0.006, loss_g: 6.846\n",
      "[4/100]: loss_d: 0.003, loss_g: 7.742\n",
      "[5/100]: loss_d: 0.001, loss_g: 8.644\n",
      "[6/100]: loss_d: 0.001, loss_g: 9.301\n",
      "[7/100]: loss_d: 0.000, loss_g: 9.709\n",
      "[8/100]: loss_d: 0.000, loss_g: 10.579\n",
      "Training Steps Completed:  499\n",
      "6\n"
     ]
    },
    {
     "data": {
      "image/png": "[encoded data removed]",
      "text/plain": [
       "<Figure size 432x288 with 1 Axes>"
      ]
     },
     "metadata": {
      "needs_background": "light"
     },
     "output_type": "display_data"
    },
    {
     "name": "stdout",
     "output_type": "stream",
     "text": [
      "[9/100]: loss_d: 0.000, loss_g: 11.182\n",
      "[10/100]: loss_d: 0.000, loss_g: 11.385\n",
      "[11/100]: loss_d: 0.000, loss_g: 12.420\n",
      "[12/100]: loss_d: 0.000, loss_g: 12.695\n",
      "[13/100]: loss_d: 0.000, loss_g: 13.107\n",
      "[14/100]: loss_d: 0.000, loss_g: 13.532\n",
      "[15/100]: loss_d: 0.000, loss_g: 13.915\n",
      "[16/100]: loss_d: 0.000, loss_g: 14.458\n",
      "[17/100]: loss_d: 0.000, loss_g: 14.709\n",
      "[18/100]: loss_d: 0.002, loss_g: 14.096\n",
      "Training Steps Completed:  499\n",
      "9\n"
     ]
    },
    {
     "data": {
      "image/png": "[encoded data removed]",
      "text/plain": [
       "<Figure size 432x288 with 1 Axes>"
      ]
     },
     "metadata": {
      "needs_background": "light"
     },
     "output_type": "display_data"
    },
    {
     "name": "stdout",
     "output_type": "stream",
     "text": [
      "[19/100]: loss_d: 0.000, loss_g: 14.911\n",
      "[20/100]: loss_d: 0.000, loss_g: 14.994\n",
      "[21/100]: loss_d: 0.000, loss_g: 14.946\n",
      "[22/100]: loss_d: 0.000, loss_g: 15.797\n",
      "[23/100]: loss_d: 0.000, loss_g: 14.377\n",
      "[24/100]: loss_d: 0.000, loss_g: 15.273\n",
      "[25/100]: loss_d: 0.000, loss_g: 16.286\n",
      "[26/100]: loss_d: 0.000, loss_g: 16.804\n",
      "[27/100]: loss_d: 0.000, loss_g: 15.695\n",
      "[28/100]: loss_d: 0.000, loss_g: 16.251\n",
      "Training Steps Completed:  499\n",
      "9\n"
     ]
    },
    {
     "data": {
      "image/png": "[encoded data removed]",
      "text/plain": [
       "<Figure size 432x288 with 1 Axes>"
      ]
     },
     "metadata": {
      "needs_background": "light"
     },
     "output_type": "display_data"
    },
    {
     "name": "stdout",
     "output_type": "stream",
     "text": [
      "[29/100]: loss_d: 0.000, loss_g: 16.542\n",
      "[30/100]: loss_d: 0.000, loss_g: 17.221\n",
      "[31/100]: loss_d: 0.000, loss_g: 17.467\n",
      "[32/100]: loss_d: 0.000, loss_g: 17.518\n",
      "[33/100]: loss_d: 0.000, loss_g: 17.072\n",
      "[34/100]: loss_d: 0.000, loss_g: 17.593\n",
      "[35/100]: loss_d: 0.000, loss_g: 18.277\n",
      "[36/100]: loss_d: 0.000, loss_g: 18.545\n",
      "[37/100]: loss_d: 0.000, loss_g: 18.350\n",
      "[38/100]: loss_d: 0.000, loss_g: 17.665\n",
      "Training Steps Completed:  499\n",
      "9\n"
     ]
    },
    {
     "data": {
      "image/png": "[encoded data removed]",
      "text/plain": [
       "<Figure size 432x288 with 1 Axes>"
      ]
     },
     "metadata": {
      "needs_background": "light"
     },
     "output_type": "display_data"
    },
    {
     "name": "stdout",
     "output_type": "stream",
     "text": [
      "[39/100]: loss_d: 0.000, loss_g: 17.325\n",
      "[40/100]: loss_d: 0.000, loss_g: 19.387\n",
      "[41/100]: loss_d: 0.000, loss_g: 18.526\n",
      "[42/100]: loss_d: 0.000, loss_g: 18.973\n",
      "[43/100]: loss_d: 0.000, loss_g: 19.103\n",
      "[44/100]: loss_d: 0.000, loss_g: 19.592\n",
      "[45/100]: loss_d: 0.000, loss_g: 21.026\n",
      "[46/100]: loss_d: 0.000, loss_g: 18.662\n",
      "[47/100]: loss_d: 0.000, loss_g: 20.103\n",
      "[48/100]: loss_d: 0.000, loss_g: 19.324\n",
      "Training Steps Completed:  499\n",
      "8\n"
     ]
    },
    {
     "data": {
      "image/png": "[encoded data removed]",
      "text/plain": [
       "<Figure size 432x288 with 1 Axes>"
      ]
     },
     "metadata": {
      "needs_background": "light"
     },
     "output_type": "display_data"
    },
    {
     "name": "stdout",
     "output_type": "stream",
     "text": [
      "[49/100]: loss_d: 0.000, loss_g: 23.054\n",
      "[50/100]: loss_d: 0.000, loss_g: 19.419\n",
      "[51/100]: loss_d: 0.000, loss_g: 20.475\n",
      "[52/100]: loss_d: 0.000, loss_g: 21.510\n",
      "[53/100]: loss_d: 0.000, loss_g: 20.801\n",
      "[54/100]: loss_d: 0.000, loss_g: 20.557\n",
      "[55/100]: loss_d: 0.000, loss_g: 21.449\n",
      "[56/100]: loss_d: 0.000, loss_g: 21.574\n",
      "[57/100]: loss_d: 0.000, loss_g: 20.122\n",
      "[58/100]: loss_d: 0.000, loss_g: 20.511\n",
      "Training Steps Completed:  499\n",
      "0\n"
     ]
    },
    {
     "data": {
      "image/png": "[encoded data removed]",
      "text/plain": [
       "<Figure size 432x288 with 1 Axes>"
      ]
     },
     "metadata": {
      "needs_background": "light"
     },
     "output_type": "display_data"
    },
    {
     "name": "stdout",
     "output_type": "stream",
     "text": [
      "[59/100]: loss_d: 0.000, loss_g: 22.000\n",
      "[60/100]: loss_d: 0.000, loss_g: 20.896\n",
      "[61/100]: loss_d: 0.000, loss_g: 20.554\n",
      "[62/100]: loss_d: 0.000, loss_g: 22.699\n",
      "[63/100]: loss_d: 0.000, loss_g: 21.703\n",
      "[64/100]: loss_d: 0.000, loss_g: 21.715\n",
      "[65/100]: loss_d: 0.000, loss_g: 22.771\n",
      "[66/100]: loss_d: 0.000, loss_g: 23.495\n",
      "[67/100]: loss_d: 0.000, loss_g: 24.508\n",
      "[68/100]: loss_d: 0.000, loss_g: 26.008\n",
      "Training Steps Completed:  499\n",
      "0\n"
     ]
    },
    {
     "data": {
      "image/png": "[encoded data removed]",
      "text/plain": [
       "<Figure size 432x288 with 1 Axes>"
      ]
     },
     "metadata": {
      "needs_background": "light"
     },
     "output_type": "display_data"
    },
    {
     "name": "stdout",
     "output_type": "stream",
     "text": [
      "[69/100]: loss_d: 0.000, loss_g: 27.567\n",
      "[70/100]: loss_d: 0.000, loss_g: 28.374\n",
      "[71/100]: loss_d: 0.000, loss_g: 37.194\n",
      "[72/100]: loss_d: 0.000, loss_g: 30.450\n",
      "[73/100]: loss_d: 0.000, loss_g: 34.293\n",
      "[74/100]: loss_d: 0.000, loss_g: 37.098\n",
      "[75/100]: loss_d: 0.000, loss_g: 27.095\n",
      "[76/100]: loss_d: 0.000, loss_g: 20.206\n",
      "[77/100]: loss_d: 0.000, loss_g: 22.104\n",
      "[78/100]: loss_d: 0.000, loss_g: 24.348\n",
      "Training Steps Completed:  499\n",
      "7\n"
     ]
    },
    {
     "data": {
      "image/png": "[encoded data removed]",
      "text/plain": [
       "<Figure size 432x288 with 1 Axes>"
      ]
     },
     "metadata": {
      "needs_background": "light"
     },
     "output_type": "display_data"
    },
    {
     "name": "stdout",
     "output_type": "stream",
     "text": [
      "[79/100]: loss_d: 0.000, loss_g: 22.664\n",
      "[80/100]: loss_d: 0.000, loss_g: 21.475\n",
      "[81/100]: loss_d: 0.000, loss_g: 22.282\n",
      "[82/100]: loss_d: 0.000, loss_g: 22.016\n",
      "[83/100]: loss_d: 0.000, loss_g: 22.663\n",
      "[84/100]: loss_d: 0.000, loss_g: 23.790\n",
      "[85/100]: loss_d: 0.000, loss_g: 25.888\n",
      "[86/100]: loss_d: 0.000, loss_g: 23.785\n",
      "[87/100]: loss_d: 0.000, loss_g: 22.803\n",
      "[88/100]: loss_d: 0.000, loss_g: 23.013\n",
      "Training Steps Completed:  499\n",
      "2\n"
     ]
    },
    {
     "data": {
      "image/png": "[encoded data removed]",
      "text/plain": [
       "<Figure size 432x288 with 1 Axes>"
      ]
     },
     "metadata": {
      "needs_background": "light"
     },
     "output_type": "display_data"
    },
    {
     "name": "stdout",
     "output_type": "stream",
     "text": [
      "[89/100]: loss_d: 0.000, loss_g: 24.378\n",
      "[90/100]: loss_d: 0.000, loss_g: 24.141\n",
      "[91/100]: loss_d: 0.000, loss_g: 23.931\n",
      "[92/100]: loss_d: 0.000, loss_g: 25.491\n",
      "[93/100]: loss_d: 0.000, loss_g: 32.335\n",
      "[94/100]: loss_d: 0.000, loss_g: 43.188\n",
      "[95/100]: loss_d: 0.000, loss_g: 42.704\n",
      "[96/100]: loss_d: 0.000, loss_g: 42.338\n",
      "[97/100]: loss_d: 0.000, loss_g: 40.962\n",
      "[98/100]: loss_d: 0.000, loss_g: 36.000\n",
      "Training Steps Completed:  499\n",
      "4\n"
     ]
    },
    {
     "data": {
      "image/png": "[encoded data removed]",
      "text/plain": [
       "<Figure size 432x288 with 1 Axes>"
      ]
     },
     "metadata": {
      "needs_background": "light"
     },
     "output_type": "display_data"
    },
    {
     "name": "stdout",
     "output_type": "stream",
     "text": [
      "[99/100]: loss_d: 0.000, loss_g: 24.773\n"
     ]
    }
   ],
   "source": [
    "discriminator1 = Discriminator1()\n",
    "generator3 = Generator3()\n",
    "discriminator1.to(device) \n",
    "generator3.to(device)\n",
    "train(generator3, discriminator1, data_loader, model_name='g3_d1_cnn')"
   ]
  },
  {
   "cell_type": "code",
   "execution_count": 83,
   "metadata": {},
   "outputs": [
    {
     "data": {
      "image/png": "[encoded data removed]",
      "text/plain": [
       "<Figure size 1440x144 with 10 Axes>"
      ]
     },
     "metadata": {
      "needs_background": "light"
     },
     "output_type": "display_data"
    }
   ],
   "source": [
    "draw_images('g3_d1_cnn.pt')"
   ]
  },
  {
   "cell_type": "code",
   "execution_count": null,
   "metadata": {},
   "outputs": [],
   "source": []
  }
 ],
 "metadata": {
  "interpreter": {
   "hash": "31f2aee4e71d21fbe5cf8b01ff0e069b9275f58929596ceb00d14d90e3e16cd6"
  },
  "kernelspec": {
   "display_name": "Python 3.6.9 64-bit",
   "language": "python",
   "name": "python3"
  },
  "language_info": {
   "codemirror_mode": {
    "name": "ipython",
    "version": 3
   },
   "file_extension": ".py",
   "mimetype": "text/x-python",
   "name": "python",
   "nbconvert_exporter": "python",
   "pygments_lexer": "ipython3",
   "version": "3.6.9"
  }
 },
 "nbformat": 4,
 "nbformat_minor": 4
}
