{
 "cells": [
  {
   "cell_type": "markdown",
   "metadata": {},
   "source": [
    "### Build Linear Conditional GAN to generate synthetic cifar 10 data\n",
    "Traditional Conditional GAN label embedding: embed labels to both generator and discriminator"
   ]
  },
  {
   "cell_type": "code",
   "execution_count": 74,
   "metadata": {},
   "outputs": [],
   "source": [
    "import torch\n",
    "from torchvision import transforms, datasets\n",
    "import torch.nn as nn\n",
    "from torch import optim as optim"
   ]
  },
  {
   "cell_type": "code",
   "execution_count": 75,
   "metadata": {},
   "outputs": [
    {
     "name": "stdout",
     "output_type": "stream",
     "text": [
      "cuda\n"
     ]
    }
   ],
   "source": [
    "device = torch.device(\"cuda\" if torch.cuda.is_available() else \"cpu\")\n",
    "print(device)"
   ]
  },
  {
   "cell_type": "code",
   "execution_count": 76,
   "metadata": {},
   "outputs": [],
   "source": [
    "training_parameters = {\n",
    "    \"n_epochs\": 100,\n",
    "    \"batch_size\": 100,\n",
    "}\n",
    "data_loader = torch.utils.data.DataLoader(\n",
    "  \n",
    "datasets.MNIST('./', train=True, download=True,\n",
    "                         transform=transforms.Compose([\n",
    "                           transforms.ToTensor(),\n",
    "                           transforms.Normalize(\n",
    "                             (0.5,), (0.5,))\n",
    "                         ])),\n",
    "batch_size=training_parameters[\"batch_size\"], shuffle=True)"
   ]
  },
  {
   "cell_type": "code",
   "execution_count": 77,
   "metadata": {},
   "outputs": [
    {
     "name": "stdout",
     "output_type": "stream",
     "text": [
      "Number of batches:  600\n"
     ]
    }
   ],
   "source": [
    "num_batches = len(data_loader)\n",
    "print(\"Number of batches: \",num_batches)"
   ]
  },
  {
   "cell_type": "code",
   "execution_count": 78,
   "metadata": {},
   "outputs": [
    {
     "name": "stdout",
     "output_type": "stream",
     "text": [
      "torch.Size([100, 1, 28, 28])\n"
     ]
    },
    {
     "data": {
      "image/png": "[encoded data removed]",
      "text/plain": [
       "<Figure size 432x288 with 1 Axes>"
      ]
     },
     "metadata": {
      "needs_background": "light"
     },
     "output_type": "display_data"
    }
   ],
   "source": [
    "%matplotlib inline \n",
    "from matplotlib import pyplot as plt\n",
    "\n",
    "for x,_ in data_loader:\n",
    "    print(x.shape)\n",
    "    plt.imshow(x.numpy()[0][0], cmap='gray')\n",
    "    break"
   ]
  },
  {
   "cell_type": "code",
   "execution_count": 79,
   "metadata": {},
   "outputs": [],
   "source": [
    "class GeneratorModel1(nn.Module):\n",
    "    def __init__(self):\n",
    "        super(GeneratorModel1, self).__init__()\n",
    "        input_dim = 100 + 10\n",
    "        output_dim = 784\n",
    "        self.label_embedding = nn.Embedding(10, 10)\n",
    "        \n",
    "        self.hidden_layer1 = nn.Sequential(\n",
    "            nn.Linear(input_dim, 256),\n",
    "            nn.LeakyReLU(0.2)\n",
    "        )\n",
    "\n",
    "        self.hidden_layer2 = nn.Sequential(\n",
    "            nn.Linear(256, 512),\n",
    "            nn.LeakyReLU(0.2)\n",
    "        )\n",
    "\n",
    "        self.hidden_layer3 = nn.Sequential(\n",
    "            nn.Linear(512, 1024),\n",
    "            nn.LeakyReLU(0.2)\n",
    "        )\n",
    "\n",
    "        self.hidden_layer4 = nn.Sequential(\n",
    "            nn.Linear(1024, output_dim),\n",
    "            nn.Tanh()\n",
    "        )\n",
    "    \n",
    "    def forward(self, x, labels):\n",
    "        c = self.label_embedding(labels)\n",
    "        x = torch.cat([x,c], 1)\n",
    "        \n",
    "        # label embedding[100, 1]\n",
    "        # input image [100, 1]\n",
    "        # out = cat([label, input], axis=0) # [100, 2]\n",
    "        # // another way\n",
    "        # out = label + input # [100 ,1]\n",
    "        \n",
    "        output = self.hidden_layer1(x)\n",
    "        output = self.hidden_layer2(output)\n",
    "        output = self.hidden_layer3(output)\n",
    "        output = self.hidden_layer4(output)\n",
    "        return output.to(device)\n",
    "    \n",
    "class GeneratorModel2(nn.Module):\n",
    "    def __init__(self):\n",
    "        super(GeneratorModel2, self).__init__()\n",
    "        input_dim = 100\n",
    "        output_dim = 784\n",
    "        self.label_embedding = nn.Embedding(10, 100)\n",
    "        \n",
    "        self.hidden_layer1 = nn.Sequential(\n",
    "            nn.Linear(input_dim, 256),\n",
    "            nn.LeakyReLU(0.2)\n",
    "        )\n",
    "\n",
    "        self.hidden_layer2 = nn.Sequential(\n",
    "            nn.Linear(256, 512),\n",
    "            nn.LeakyReLU(0.2)\n",
    "        )\n",
    "\n",
    "        self.hidden_layer3 = nn.Sequential(\n",
    "            nn.Linear(512, 1024),\n",
    "            nn.LeakyReLU(0.2)\n",
    "        )\n",
    "\n",
    "        self.hidden_layer4 = nn.Sequential(\n",
    "            nn.Linear(1024, output_dim),\n",
    "            nn.Tanh()\n",
    "        )\n",
    "    \n",
    "    def forward(self, x, labels):\n",
    "        c = self.label_embedding(labels)\n",
    "        x = x + c\n",
    "        output = self.hidden_layer1(x)\n",
    "        output = self.hidden_layer2(output)\n",
    "        output = self.hidden_layer3(output)\n",
    "        output = self.hidden_layer4(output)\n",
    "        return output.to(device)\n",
    "    \n",
    "class GeneratorModel3(nn.Module):\n",
    "    def __init__(self):\n",
    "        super(GeneratorModel3, self).__init__()\n",
    "        input_dim = 100 + 100\n",
    "        output_dim = 784\n",
    "        self.label_embedding = nn.Embedding(10, 10)\n",
    "        self.l1 = nn.Linear(10, 100)\n",
    "        self.hidden_layer1 = nn.Sequential(\n",
    "            nn.Linear(input_dim, 256),\n",
    "            nn.LeakyReLU(0.2)\n",
    "        )\n",
    "\n",
    "        self.hidden_layer2 = nn.Sequential(\n",
    "            nn.Linear(256, 512),\n",
    "            nn.LeakyReLU(0.2)\n",
    "        )\n",
    "\n",
    "        self.hidden_layer3 = nn.Sequential(\n",
    "            nn.Linear(512, 1024),\n",
    "            nn.LeakyReLU(0.2)\n",
    "        )\n",
    "\n",
    "        self.hidden_layer4 = nn.Sequential(\n",
    "            nn.Linear(1024, output_dim),\n",
    "            nn.Tanh()\n",
    "        )\n",
    "    \n",
    "    def forward(self, x, labels):\n",
    "        c = self.label_embedding(labels)\n",
    "        c = self.l1(c)\n",
    "#         print(f'c shape is {c.shape}') # bh, 100\n",
    "        x = torch.cat([x, c], 1)\n",
    "#         print(f'x.shape is {x.shape}') # bh, 200\n",
    "        output = self.hidden_layer1(x)\n",
    "        output = self.hidden_layer2(output)\n",
    "        output = self.hidden_layer3(output)\n",
    "        output = self.hidden_layer4(output)\n",
    "#         print(output.shape) # bh, 784\n",
    "        return output.to(device)\n",
    "\n",
    "class GeneratorModel4(nn.Module):\n",
    "    def __init__(self):\n",
    "        super(GeneratorModel4, self).__init__()\n",
    "        input_dim = 100 + 100\n",
    "        output_dim = 784\n",
    "        self.label_embedding = nn.Embedding(10, 100)\n",
    "        self.hidden_layer1 = nn.Sequential(\n",
    "            nn.Linear(input_dim, 256),\n",
    "            nn.LeakyReLU(0.2)\n",
    "        )\n",
    "\n",
    "        self.hidden_layer2 = nn.Sequential(\n",
    "            nn.Linear(256, 512),\n",
    "            nn.LeakyReLU(0.2)\n",
    "        )\n",
    "\n",
    "        self.hidden_layer3 = nn.Sequential(\n",
    "            nn.Linear(512, 1024),\n",
    "            nn.LeakyReLU(0.2)\n",
    "        )\n",
    "\n",
    "        self.hidden_layer4 = nn.Sequential(\n",
    "            nn.Linear(1024, output_dim),\n",
    "            nn.Tanh()\n",
    "        )\n",
    "    \n",
    "    def forward(self, x, labels):\n",
    "        c = self.label_embedding(labels)\n",
    "#         print(f'c shape is {c.shape}') # bh, 100\n",
    "        x = torch.cat([x, c], 1)\n",
    "#         print(f'x.shape is {x.shape}') # bh, 200\n",
    "        output = self.hidden_layer1(x)\n",
    "        output = self.hidden_layer2(output)\n",
    "        output = self.hidden_layer3(output)\n",
    "        output = self.hidden_layer4(output)\n",
    "#         print(output.shape) # bh, 784\n",
    "        return output.to(device)"
   ]
  },
  {
   "cell_type": "code",
   "execution_count": 80,
   "metadata": {},
   "outputs": [],
   "source": [
    "class DiscriminatorModel1(nn.Module):\n",
    "    def __init__(self):\n",
    "        super(DiscriminatorModel1, self).__init__()\n",
    "        input_dim = 784 + 10\n",
    "        output_dim = 1\n",
    "        self.label_embedding = nn.Embedding(10, 10)\n",
    "\n",
    "        self.hidden_layer1 = nn.Sequential(\n",
    "            nn.Linear(input_dim, 1024),\n",
    "            nn.LeakyReLU(0.2),\n",
    "            nn.Dropout(0.3)\n",
    "        )\n",
    "\n",
    "        self.hidden_layer2 = nn.Sequential(\n",
    "            nn.Linear(1024, 512),\n",
    "            nn.LeakyReLU(0.2),\n",
    "            nn.Dropout(0.3)\n",
    "        )\n",
    "\n",
    "        self.hidden_layer3 = nn.Sequential(\n",
    "            nn.Linear(512, 256),\n",
    "            nn.LeakyReLU(0.2),\n",
    "            nn.Dropout(0.3)\n",
    "        )\n",
    "\n",
    "        self.hidden_layer4 = nn.Sequential(\n",
    "            nn.Linear(256, output_dim),\n",
    "            nn.Sigmoid()\n",
    "        )\n",
    "\n",
    "    def forward(self, x, labels):\n",
    "        c = self.label_embedding(labels)\n",
    "        x = torch.cat([x, c], 1)\n",
    "        output = self.hidden_layer1(x)\n",
    "        output = self.hidden_layer2(output)\n",
    "        output = self.hidden_layer3(output)\n",
    "        output = self.hidden_layer4(output)\n",
    "\n",
    "        return output.to(device)\n",
    "    \n",
    "class DiscriminatorModel2(nn.Module):\n",
    "    def __init__(self):\n",
    "        super(DiscriminatorModel2, self).__init__()\n",
    "        input_dim = 784 + 100\n",
    "        output_dim = 1\n",
    "        self.label_embedding = nn.Embedding(10, 100)\n",
    "\n",
    "        self.hidden_layer1 = nn.Sequential(\n",
    "            nn.Linear(input_dim, 1024),\n",
    "            nn.LeakyReLU(0.2),\n",
    "            nn.Dropout(0.3)\n",
    "        )\n",
    "\n",
    "        self.hidden_layer2 = nn.Sequential(\n",
    "            nn.Linear(1024, 512),\n",
    "            nn.LeakyReLU(0.2),\n",
    "            nn.Dropout(0.3)\n",
    "        )\n",
    "\n",
    "        self.hidden_layer3 = nn.Sequential(\n",
    "            nn.Linear(512, 256),\n",
    "            nn.LeakyReLU(0.2),\n",
    "            nn.Dropout(0.3)\n",
    "        )\n",
    "\n",
    "        self.hidden_layer4 = nn.Sequential(\n",
    "            nn.Linear(256, output_dim),\n",
    "            nn.Sigmoid()\n",
    "        )\n",
    "\n",
    "    def forward(self, x, labels):\n",
    "        c = self.label_embedding(labels)\n",
    "        x = torch.cat([x, c], 1)\n",
    "        output = self.hidden_layer1(x)\n",
    "        output = self.hidden_layer2(output)\n",
    "        output = self.hidden_layer3(output)\n",
    "        output = self.hidden_layer4(output)\n",
    "\n",
    "        return output.to(device)\n",
    "    \n",
    "#wrong\n",
    "class DiscriminatorModel3(nn.Module):\n",
    "    def __init__(self):\n",
    "        super(DiscriminatorModel3, self).__init__()\n",
    "        input_dim = 784\n",
    "        output_dim = 1\n",
    "        self.label_embedding = nn.Embedding(10, 10)\n",
    "\n",
    "        self.hidden_layer1 = nn.Sequential(\n",
    "            nn.Linear(input_dim, 1024),\n",
    "            nn.LeakyReLU(0.2),\n",
    "            nn.Dropout(0.3)\n",
    "        )\n",
    "\n",
    "        self.hidden_layer2 = nn.Sequential(\n",
    "            nn.Linear(1024, 512),\n",
    "            nn.LeakyReLU(0.2),\n",
    "            nn.Dropout(0.3)\n",
    "        )\n",
    "\n",
    "        self.hidden_layer3 = nn.Sequential(\n",
    "            nn.Linear(512, 256),\n",
    "            nn.LeakyReLU(0.2),\n",
    "            nn.Dropout(0.3)\n",
    "        )\n",
    "\n",
    "        self.hidden_layer4 = nn.Sequential(\n",
    "            nn.Linear(256, output_dim),\n",
    "            nn.Sigmoid()\n",
    "        )\n",
    "\n",
    "    def forward(self, x, labels):\n",
    "        c = self.label_embedding(labels)\n",
    "        x = x + c\n",
    "        output = self.hidden_layer1(x)\n",
    "        output = self.hidden_layer2(output)\n",
    "        output = self.hidden_layer3(output)\n",
    "        output = self.hidden_layer4(output)\n",
    "\n",
    "        return output.to(device)"
   ]
  },
  {
   "cell_type": "code",
   "execution_count": 81,
   "metadata": {},
   "outputs": [],
   "source": [
    "discriminator1 = DiscriminatorModel1()\n",
    "discriminator2 = DiscriminatorModel2()\n",
    "discriminator3 = DiscriminatorModel3()\n",
    "generator1 = GeneratorModel1()\n",
    "generator2 = GeneratorModel2()\n",
    "generator3 = GeneratorModel3()\n",
    "generator4 = GeneratorModel4()\n",
    "\n",
    "discriminator1.to(device) \n",
    "discriminator2.to(device) \n",
    "discriminator3.to(device) \n",
    "generator1.to(device)\n",
    "generator2.to(device)\n",
    "generator3.to(device)\n",
    "generator4.to(device);"
   ]
  },
  {
   "cell_type": "code",
   "execution_count": 82,
   "metadata": {},
   "outputs": [],
   "source": [
    "def train(generator, discriminator, data_loader, model_name='model_name'):\n",
    "    n_epochs = training_parameters[\"n_epochs\"]\n",
    "    batch_size = training_parameters[\"batch_size\"]\n",
    "\n",
    "    discriminator_optimizer = optim.Adam(discriminator.parameters(), lr=0.0002)\n",
    "    generator_optimizer = optim.Adam(generator.parameters(), lr=0.0002)\n",
    "\n",
    "    loss = nn.BCELoss()\n",
    "    \n",
    "    for epoch_idx in range(n_epochs):\n",
    "        G_loss = []\n",
    "        D_loss = []\n",
    "        for batch_idx, data_input in enumerate(data_loader):\n",
    "\n",
    "\n",
    "            noise = torch.randn(batch_size,100).to(device)\n",
    "            fake_labels = torch.randint(0, 10, (batch_size,)).to(device)\n",
    "            generated_data = generator(noise, fake_labels) # batch_size X 784\n",
    "\n",
    "\n",
    "            # Discriminator\n",
    "            true_data = data_input[0].view(batch_size, 784).to(device) # batch_size X 784\n",
    "            digit_labels = data_input[1].to(device) # batch_size\n",
    "            true_labels = torch.ones(batch_size).to(device)\n",
    "\n",
    "            discriminator_optimizer.zero_grad()\n",
    "\n",
    "            discriminator_output_for_true_data = discriminator(true_data, digit_labels).view(batch_size)\n",
    "            true_discriminator_loss = loss(discriminator_output_for_true_data, true_labels)\n",
    "\n",
    "            discriminator_output_for_generated_data = discriminator(generated_data.detach(), fake_labels).view(batch_size)\n",
    "            generator_discriminator_loss = loss(\n",
    "                discriminator_output_for_generated_data, torch.zeros(batch_size).to(device)\n",
    "            )\n",
    "            discriminator_loss = (\n",
    "                true_discriminator_loss + generator_discriminator_loss\n",
    "            ) / 2\n",
    "\n",
    "            discriminator_loss.backward()\n",
    "            discriminator_optimizer.step()\n",
    "\n",
    "            D_loss.append(discriminator_loss.data.item())\n",
    "\n",
    "\n",
    "            # Generator\n",
    "\n",
    "            generator_optimizer.zero_grad()\n",
    "            # It's a choice to generate the data again\n",
    "            generated_data = generator(noise, fake_labels) # batch_size X 784\n",
    "            discriminator_output_on_generated_data = discriminator(generated_data, fake_labels).view(batch_size)\n",
    "            generator_loss = loss(discriminator_output_on_generated_data, true_labels)\n",
    "            generator_loss.backward()\n",
    "            generator_optimizer.step()\n",
    "\n",
    "            G_loss.append(generator_loss.data.item())\n",
    "            if ((batch_idx + 1)% 500 == 0 and (epoch_idx + 1)%10 == 0):\n",
    "                print(\"Training Steps Completed: \", batch_idx)\n",
    "\n",
    "                with torch.no_grad():\n",
    "                    noise = torch.randn(batch_size,100).to(device)\n",
    "                    fake_labels = torch.randint(0, 10, (batch_size,)).to(device)\n",
    "                    generated_data = generator(noise, fake_labels).cpu().view(batch_size, 28, 28)\n",
    "                    for x in generated_data:\n",
    "                        print(fake_labels[0].item())\n",
    "                        plt.imshow(x.detach().numpy(), interpolation='nearest',cmap='gray')\n",
    "                        plt.show()\n",
    "\n",
    "                        break\n",
    "\n",
    "\n",
    "        print('[%d/%d]: loss_d: %.3f, loss_g: %.3f' % (\n",
    "                (epoch_idx), n_epochs, torch.mean(torch.FloatTensor(D_loss)), torch.mean(torch.FloatTensor(G_loss))))\n",
    "        \n",
    "        torch.save(generator, f'./{model_name}.pt')"
   ]
  },
  {
   "cell_type": "code",
   "execution_count": 92,
   "metadata": {},
   "outputs": [],
   "source": [
    "#load model and generate 0 - 9 images\n",
    "def draw_images(model_name):\n",
    "    generator = torch.load(model_name)\n",
    "    with torch.no_grad():\n",
    "        noise = torch.randn(10,100).to(device)\n",
    "        labels = torch.IntTensor([0, 1, 2, 3, 4, 5, 6, 7, 8, 9]).to(device)\n",
    "#         labels = torch.range(0, 9)\n",
    "        generated_data = generator(noise, labels).cpu().view(10, 28, 28)\n",
    "\n",
    "    fig, axs = plt.subplots(1, 10, figsize=(20,2))\n",
    "    for i in range(10):\n",
    "        axs[i].imshow(generated_data[i].detach().numpy(), interpolation='nearest',cmap='gray')\n",
    "    fig.savefig(f'{model_name}_syn.pdf')"
   ]
  },
  {
   "cell_type": "code",
   "execution_count": 83,
   "metadata": {
    "collapsed": true,
    "jupyter": {
     "outputs_hidden": true
    }
   },
   "outputs": [
    {
     "name": "stdout",
     "output_type": "stream",
     "text": [
      "[0/100]: loss_d: 0.513, loss_g: 2.431\n",
      "[1/100]: loss_d: 0.636, loss_g: 1.348\n",
      "[2/100]: loss_d: 0.505, loss_g: 1.530\n",
      "[3/100]: loss_d: 0.294, loss_g: 2.600\n",
      "[4/100]: loss_d: 0.259, loss_g: 2.676\n",
      "[5/100]: loss_d: 0.264, loss_g: 2.677\n",
      "[6/100]: loss_d: 0.267, loss_g: 2.867\n",
      "[7/100]: loss_d: 0.226, loss_g: 3.050\n",
      "[8/100]: loss_d: 0.266, loss_g: 2.789\n",
      "Training Steps Completed:  499\n",
      "0\n"
     ]
    },
    {
     "data": {
      "image/png": "[encoded data removed]",
      "text/plain": [
       "<Figure size 432x288 with 1 Axes>"
      ]
     },
     "metadata": {
      "needs_background": "light"
     },
     "output_type": "display_data"
    },
    {
     "name": "stdout",
     "output_type": "stream",
     "text": [
      "[9/100]: loss_d: 0.285, loss_g: 2.646\n",
      "[10/100]: loss_d: 0.299, loss_g: 2.541\n",
      "[11/100]: loss_d: 0.300, loss_g: 2.494\n",
      "[12/100]: loss_d: 0.322, loss_g: 2.429\n",
      "[13/100]: loss_d: 0.349, loss_g: 2.248\n",
      "[14/100]: loss_d: 0.370, loss_g: 2.095\n",
      "[15/100]: loss_d: 0.386, loss_g: 1.996\n",
      "[16/100]: loss_d: 0.401, loss_g: 1.912\n",
      "[17/100]: loss_d: 0.403, loss_g: 1.872\n",
      "[18/100]: loss_d: 0.425, loss_g: 1.789\n",
      "Training Steps Completed:  499\n",
      "5\n"
     ]
    },
    {
     "data": {
      "image/png": "[encoded data removed]",
      "text/plain": [
       "<Figure size 432x288 with 1 Axes>"
      ]
     },
     "metadata": {
      "needs_background": "light"
     },
     "output_type": "display_data"
    },
    {
     "name": "stdout",
     "output_type": "stream",
     "text": [
      "[19/100]: loss_d: 0.432, loss_g: 1.744\n",
      "[20/100]: loss_d: 0.443, loss_g: 1.688\n",
      "[21/100]: loss_d: 0.462, loss_g: 1.597\n",
      "[22/100]: loss_d: 0.471, loss_g: 1.554\n",
      "[23/100]: loss_d: 0.466, loss_g: 1.568\n",
      "[24/100]: loss_d: 0.481, loss_g: 1.511\n",
      "[25/100]: loss_d: 0.502, loss_g: 1.406\n",
      "[26/100]: loss_d: 0.502, loss_g: 1.417\n",
      "[27/100]: loss_d: 0.506, loss_g: 1.405\n",
      "[28/100]: loss_d: 0.516, loss_g: 1.348\n",
      "Training Steps Completed:  499\n",
      "1\n"
     ]
    },
    {
     "data": {
      "image/png": "[encoded data removed]",
      "text/plain": [
       "<Figure size 432x288 with 1 Axes>"
      ]
     },
     "metadata": {
      "needs_background": "light"
     },
     "output_type": "display_data"
    },
    {
     "name": "stdout",
     "output_type": "stream",
     "text": [
      "[29/100]: loss_d: 0.527, loss_g: 1.313\n",
      "[30/100]: loss_d: 0.522, loss_g: 1.340\n",
      "[31/100]: loss_d: 0.544, loss_g: 1.254\n",
      "[32/100]: loss_d: 0.535, loss_g: 1.270\n",
      "[33/100]: loss_d: 0.548, loss_g: 1.227\n",
      "[34/100]: loss_d: 0.549, loss_g: 1.223\n",
      "[35/100]: loss_d: 0.544, loss_g: 1.242\n",
      "[36/100]: loss_d: 0.556, loss_g: 1.201\n",
      "[37/100]: loss_d: 0.558, loss_g: 1.188\n",
      "[38/100]: loss_d: 0.573, loss_g: 1.137\n",
      "Training Steps Completed:  499\n",
      "0\n"
     ]
    },
    {
     "data": {
      "image/png": "[encoded data removed]",
      "text/plain": [
       "<Figure size 432x288 with 1 Axes>"
      ]
     },
     "metadata": {
      "needs_background": "light"
     },
     "output_type": "display_data"
    },
    {
     "name": "stdout",
     "output_type": "stream",
     "text": [
      "[39/100]: loss_d: 0.572, loss_g: 1.147\n",
      "[40/100]: loss_d: 0.570, loss_g: 1.135\n",
      "[41/100]: loss_d: 0.579, loss_g: 1.106\n",
      "[42/100]: loss_d: 0.580, loss_g: 1.102\n",
      "[43/100]: loss_d: 0.590, loss_g: 1.081\n",
      "[44/100]: loss_d: 0.585, loss_g: 1.083\n",
      "[45/100]: loss_d: 0.590, loss_g: 1.074\n",
      "[46/100]: loss_d: 0.601, loss_g: 1.030\n",
      "[47/100]: loss_d: 0.599, loss_g: 1.031\n",
      "[48/100]: loss_d: 0.594, loss_g: 1.054\n",
      "Training Steps Completed:  499\n",
      "0\n"
     ]
    },
    {
     "data": {
      "image/png": "[encoded data removed]",
      "text/plain": [
       "<Figure size 432x288 with 1 Axes>"
      ]
     },
     "metadata": {
      "needs_background": "light"
     },
     "output_type": "display_data"
    },
    {
     "name": "stdout",
     "output_type": "stream",
     "text": [
      "[49/100]: loss_d: 0.595, loss_g: 1.045\n",
      "[50/100]: loss_d: 0.596, loss_g: 1.038\n",
      "[51/100]: loss_d: 0.600, loss_g: 1.023\n",
      "[52/100]: loss_d: 0.609, loss_g: 0.997\n",
      "[53/100]: loss_d: 0.597, loss_g: 1.042\n",
      "[54/100]: loss_d: 0.594, loss_g: 1.054\n",
      "[55/100]: loss_d: 0.605, loss_g: 1.015\n",
      "[56/100]: loss_d: 0.605, loss_g: 1.017\n",
      "[57/100]: loss_d: 0.609, loss_g: 0.997\n",
      "[58/100]: loss_d: 0.609, loss_g: 0.994\n",
      "Training Steps Completed:  499\n",
      "9\n"
     ]
    },
    {
     "data": {
      "image/png": "[encoded data removed]",
      "text/plain": [
       "<Figure size 432x288 with 1 Axes>"
      ]
     },
     "metadata": {
      "needs_background": "light"
     },
     "output_type": "display_data"
    },
    {
     "name": "stdout",
     "output_type": "stream",
     "text": [
      "[59/100]: loss_d: 0.615, loss_g: 0.975\n",
      "[60/100]: loss_d: 0.623, loss_g: 0.940\n",
      "[61/100]: loss_d: 0.621, loss_g: 0.949\n",
      "[62/100]: loss_d: 0.616, loss_g: 0.972\n",
      "[63/100]: loss_d: 0.613, loss_g: 0.974\n",
      "[64/100]: loss_d: 0.615, loss_g: 0.976\n",
      "[65/100]: loss_d: 0.620, loss_g: 0.965\n",
      "[66/100]: loss_d: 0.622, loss_g: 0.951\n",
      "[67/100]: loss_d: 0.622, loss_g: 0.954\n",
      "[68/100]: loss_d: 0.620, loss_g: 0.945\n",
      "Training Steps Completed:  499\n",
      "8\n"
     ]
    },
    {
     "data": {
      "image/png": "[encoded data removed]",
      "text/plain": [
       "<Figure size 432x288 with 1 Axes>"
      ]
     },
     "metadata": {
      "needs_background": "light"
     },
     "output_type": "display_data"
    },
    {
     "name": "stdout",
     "output_type": "stream",
     "text": [
      "[69/100]: loss_d: 0.627, loss_g: 0.933\n",
      "[70/100]: loss_d: 0.630, loss_g: 0.919\n",
      "[71/100]: loss_d: 0.627, loss_g: 0.943\n",
      "[72/100]: loss_d: 0.630, loss_g: 0.920\n",
      "[73/100]: loss_d: 0.628, loss_g: 0.930\n",
      "[74/100]: loss_d: 0.630, loss_g: 0.923\n",
      "[75/100]: loss_d: 0.632, loss_g: 0.907\n",
      "[76/100]: loss_d: 0.629, loss_g: 0.928\n",
      "[77/100]: loss_d: 0.628, loss_g: 0.931\n",
      "[78/100]: loss_d: 0.628, loss_g: 0.922\n",
      "Training Steps Completed:  499\n",
      "1\n"
     ]
    },
    {
     "data": {
      "image/png": "[encoded data removed]",
      "text/plain": [
       "<Figure size 432x288 with 1 Axes>"
      ]
     },
     "metadata": {
      "needs_background": "light"
     },
     "output_type": "display_data"
    },
    {
     "name": "stdout",
     "output_type": "stream",
     "text": [
      "[79/100]: loss_d: 0.624, loss_g: 0.938\n",
      "[80/100]: loss_d: 0.629, loss_g: 0.921\n",
      "[81/100]: loss_d: 0.635, loss_g: 0.911\n",
      "[82/100]: loss_d: 0.634, loss_g: 0.905\n",
      "[83/100]: loss_d: 0.641, loss_g: 0.881\n",
      "[84/100]: loss_d: 0.639, loss_g: 0.896\n",
      "[85/100]: loss_d: 0.637, loss_g: 0.899\n",
      "[86/100]: loss_d: 0.638, loss_g: 0.893\n",
      "[87/100]: loss_d: 0.638, loss_g: 0.901\n",
      "[88/100]: loss_d: 0.639, loss_g: 0.893\n",
      "Training Steps Completed:  499\n",
      "8\n"
     ]
    },
    {
     "data": {
      "image/png": "[encoded data removed]",
      "text/plain": [
       "<Figure size 432x288 with 1 Axes>"
      ]
     },
     "metadata": {
      "needs_background": "light"
     },
     "output_type": "display_data"
    },
    {
     "name": "stdout",
     "output_type": "stream",
     "text": [
      "[89/100]: loss_d: 0.645, loss_g: 0.866\n",
      "[90/100]: loss_d: 0.645, loss_g: 0.871\n",
      "[91/100]: loss_d: 0.640, loss_g: 0.900\n",
      "[92/100]: loss_d: 0.638, loss_g: 0.890\n",
      "[93/100]: loss_d: 0.645, loss_g: 0.869\n",
      "[94/100]: loss_d: 0.644, loss_g: 0.880\n",
      "[95/100]: loss_d: 0.639, loss_g: 0.903\n",
      "[96/100]: loss_d: 0.635, loss_g: 0.905\n",
      "[97/100]: loss_d: 0.645, loss_g: 0.865\n",
      "[98/100]: loss_d: 0.645, loss_g: 0.862\n",
      "Training Steps Completed:  499\n",
      "0\n"
     ]
    },
    {
     "data": {
      "image/png": "[encoded data removed]",
      "text/plain": [
       "<Figure size 432x288 with 1 Axes>"
      ]
     },
     "metadata": {
      "needs_background": "light"
     },
     "output_type": "display_data"
    },
    {
     "name": "stdout",
     "output_type": "stream",
     "text": [
      "[99/100]: loss_d: 0.649, loss_g: 0.860\n"
     ]
    }
   ],
   "source": [
    "discriminator1 = DiscriminatorModel1()\n",
    "generator1 = GeneratorModel1()\n",
    "discriminator1.to(device) \n",
    "generator1.to(device)\n",
    "train(generator1, discriminator1, data_loader, model_name='g1_d1')"
   ]
  },
  {
   "cell_type": "code",
   "execution_count": 93,
   "metadata": {},
   "outputs": [
    {
     "data": {
      "image/png": "[encoded data removed]",
      "text/plain": [
       "<Figure size 1440x144 with 10 Axes>"
      ]
     },
     "metadata": {
      "needs_background": "light"
     },
     "output_type": "display_data"
    }
   ],
   "source": [
    "draw_images('g1_d1.pt')"
   ]
  },
  {
   "cell_type": "code",
   "execution_count": 94,
   "metadata": {
    "collapsed": true,
    "jupyter": {
     "outputs_hidden": true
    }
   },
   "outputs": [
    {
     "name": "stdout",
     "output_type": "stream",
     "text": [
      "[0/100]: loss_d: 0.584, loss_g: 1.873\n",
      "[1/100]: loss_d: 0.644, loss_g: 1.276\n",
      "[2/100]: loss_d: 0.570, loss_g: 1.609\n",
      "[3/100]: loss_d: 0.622, loss_g: 1.157\n",
      "[4/100]: loss_d: 0.577, loss_g: 1.697\n",
      "[5/100]: loss_d: 0.896, loss_g: 1.914\n",
      "[6/100]: loss_d: 0.461, loss_g: 1.697\n",
      "[7/100]: loss_d: 0.434, loss_g: 1.614\n",
      "[8/100]: loss_d: 0.433, loss_g: 1.729\n",
      "Training Steps Completed:  499\n",
      "9\n"
     ]
    },
    {
     "data": {
      "image/png": "[encoded data removed]",
      "text/plain": [
       "<Figure size 432x288 with 1 Axes>"
      ]
     },
     "metadata": {
      "needs_background": "light"
     },
     "output_type": "display_data"
    },
    {
     "name": "stdout",
     "output_type": "stream",
     "text": [
      "[9/100]: loss_d: 0.382, loss_g: 1.911\n",
      "[10/100]: loss_d: 0.360, loss_g: 2.115\n",
      "[11/100]: loss_d: 0.307, loss_g: 2.502\n",
      "[12/100]: loss_d: 0.264, loss_g: 3.047\n",
      "[13/100]: loss_d: 0.195, loss_g: 3.820\n",
      "[14/100]: loss_d: 0.079, loss_g: 5.791\n",
      "[15/100]: loss_d: 0.061, loss_g: 6.860\n",
      "[16/100]: loss_d: 0.057, loss_g: 7.376\n",
      "[17/100]: loss_d: 0.038, loss_g: 8.563\n",
      "[18/100]: loss_d: 0.012, loss_g: 10.135\n",
      "Training Steps Completed:  499\n",
      "3\n"
     ]
    },
    {
     "data": {
      "image/png": "[encoded data removed]",
      "text/plain": [
       "<Figure size 432x288 with 1 Axes>"
      ]
     },
     "metadata": {
      "needs_background": "light"
     },
     "output_type": "display_data"
    },
    {
     "name": "stdout",
     "output_type": "stream",
     "text": [
      "[19/100]: loss_d: 0.007, loss_g: 12.796\n",
      "[20/100]: loss_d: 0.005, loss_g: 13.022\n",
      "[21/100]: loss_d: 0.001, loss_g: 15.423\n",
      "[22/100]: loss_d: 0.001, loss_g: 16.045\n",
      "[23/100]: loss_d: 0.002, loss_g: 17.636\n",
      "[24/100]: loss_d: 0.002, loss_g: 18.103\n",
      "[25/100]: loss_d: 0.002, loss_g: 14.299\n",
      "[26/100]: loss_d: 0.001, loss_g: 20.154\n",
      "[27/100]: loss_d: 0.006, loss_g: 16.200\n",
      "[28/100]: loss_d: 0.000, loss_g: 16.593\n",
      "Training Steps Completed:  499\n",
      "4\n"
     ]
    },
    {
     "data": {
      "image/png": "[encoded data removed]",
      "text/plain": [
       "<Figure size 432x288 with 1 Axes>"
      ]
     },
     "metadata": {
      "needs_background": "light"
     },
     "output_type": "display_data"
    },
    {
     "name": "stdout",
     "output_type": "stream",
     "text": [
      "[29/100]: loss_d: 0.000, loss_g: 18.159\n",
      "[30/100]: loss_d: 0.000, loss_g: 18.392\n",
      "[31/100]: loss_d: 0.001, loss_g: 21.603\n",
      "[32/100]: loss_d: 0.002, loss_g: 21.431\n",
      "[33/100]: loss_d: 0.001, loss_g: 18.867\n",
      "[34/100]: loss_d: 0.000, loss_g: 19.965\n",
      "[35/100]: loss_d: 0.000, loss_g: 27.956\n",
      "[36/100]: loss_d: 0.000, loss_g: 20.473\n",
      "[37/100]: loss_d: 0.000, loss_g: 21.961\n",
      "[38/100]: loss_d: 0.000, loss_g: 22.905\n",
      "Training Steps Completed:  499\n",
      "3\n"
     ]
    },
    {
     "data": {
      "image/png": "[encoded data removed]",
      "text/plain": [
       "<Figure size 432x288 with 1 Axes>"
      ]
     },
     "metadata": {
      "needs_background": "light"
     },
     "output_type": "display_data"
    },
    {
     "name": "stdout",
     "output_type": "stream",
     "text": [
      "[39/100]: loss_d: 0.000, loss_g: 25.336\n",
      "[40/100]: loss_d: 0.004, loss_g: 19.616\n",
      "[41/100]: loss_d: 0.000, loss_g: 19.819\n",
      "[42/100]: loss_d: 0.001, loss_g: 22.713\n",
      "[43/100]: loss_d: 0.002, loss_g: 16.201\n",
      "[44/100]: loss_d: 0.001, loss_g: 15.409\n",
      "[45/100]: loss_d: 0.000, loss_g: 16.299\n",
      "[46/100]: loss_d: 0.000, loss_g: 19.480\n",
      "[47/100]: loss_d: 0.000, loss_g: 19.628\n",
      "[48/100]: loss_d: 0.001, loss_g: 21.743\n",
      "Training Steps Completed:  499\n",
      "0\n"
     ]
    },
    {
     "data": {
      "image/png": "[encoded data removed]",
      "text/plain": [
       "<Figure size 432x288 with 1 Axes>"
      ]
     },
     "metadata": {
      "needs_background": "light"
     },
     "output_type": "display_data"
    },
    {
     "name": "stdout",
     "output_type": "stream",
     "text": [
      "[49/100]: loss_d: 0.000, loss_g: 18.843\n",
      "[50/100]: loss_d: 0.000, loss_g: 19.265\n",
      "[51/100]: loss_d: 0.000, loss_g: 22.691\n",
      "[52/100]: loss_d: 0.002, loss_g: 20.304\n",
      "[53/100]: loss_d: 0.001, loss_g: 18.294\n",
      "[54/100]: loss_d: 0.001, loss_g: 19.984\n",
      "[55/100]: loss_d: 0.002, loss_g: 20.426\n",
      "[56/100]: loss_d: 0.001, loss_g: 17.581\n",
      "[57/100]: loss_d: 0.001, loss_g: 19.894\n",
      "[58/100]: loss_d: 0.000, loss_g: 17.236\n",
      "Training Steps Completed:  499\n",
      "6\n"
     ]
    },
    {
     "data": {
      "image/png": "[encoded data removed]",
      "text/plain": [
       "<Figure size 432x288 with 1 Axes>"
      ]
     },
     "metadata": {
      "needs_background": "light"
     },
     "output_type": "display_data"
    },
    {
     "name": "stdout",
     "output_type": "stream",
     "text": [
      "[59/100]: loss_d: 0.000, loss_g: 17.102\n",
      "[60/100]: loss_d: 0.001, loss_g: 31.109\n",
      "[61/100]: loss_d: 0.000, loss_g: 22.799\n",
      "[62/100]: loss_d: 0.000, loss_g: 26.206\n",
      "[63/100]: loss_d: 0.000, loss_g: 27.589\n",
      "[64/100]: loss_d: 0.000, loss_g: 24.228\n",
      "[65/100]: loss_d: 0.000, loss_g: 40.566\n",
      "[66/100]: loss_d: 0.000, loss_g: 25.485\n",
      "[67/100]: loss_d: 0.000, loss_g: 19.465\n",
      "[68/100]: loss_d: 0.000, loss_g: 21.545\n",
      "Training Steps Completed:  499\n",
      "5\n"
     ]
    },
    {
     "data": {
      "image/png": "[encoded data removed]",
      "text/plain": [
       "<Figure size 432x288 with 1 Axes>"
      ]
     },
     "metadata": {
      "needs_background": "light"
     },
     "output_type": "display_data"
    },
    {
     "name": "stdout",
     "output_type": "stream",
     "text": [
      "[69/100]: loss_d: 0.000, loss_g: 20.908\n",
      "[70/100]: loss_d: 0.000, loss_g: 21.213\n",
      "[71/100]: loss_d: 0.000, loss_g: 22.528\n",
      "[72/100]: loss_d: 0.001, loss_g: 61.990\n",
      "[73/100]: loss_d: 0.000, loss_g: 70.933\n",
      "[74/100]: loss_d: 0.000, loss_g: 70.827\n",
      "[75/100]: loss_d: 0.000, loss_g: 70.766\n",
      "[76/100]: loss_d: 0.000, loss_g: 71.053\n",
      "[77/100]: loss_d: 0.001, loss_g: 57.275\n",
      "[78/100]: loss_d: 0.001, loss_g: 29.151\n",
      "Training Steps Completed:  499\n",
      "3\n"
     ]
    },
    {
     "data": {
      "image/png": "[encoded data removed]",
      "text/plain": [
       "<Figure size 432x288 with 1 Axes>"
      ]
     },
     "metadata": {
      "needs_background": "light"
     },
     "output_type": "display_data"
    },
    {
     "name": "stdout",
     "output_type": "stream",
     "text": [
      "[79/100]: loss_d: 0.000, loss_g: 25.922\n",
      "[80/100]: loss_d: 0.000, loss_g: 35.847\n",
      "[81/100]: loss_d: 0.000, loss_g: 35.046\n",
      "[82/100]: loss_d: 0.002, loss_g: 32.768\n",
      "[83/100]: loss_d: 0.001, loss_g: 16.735\n",
      "[84/100]: loss_d: 0.000, loss_g: 19.392\n",
      "[85/100]: loss_d: 0.000, loss_g: 16.693\n",
      "[86/100]: loss_d: 0.000, loss_g: 18.225\n",
      "[87/100]: loss_d: 0.001, loss_g: 29.860\n",
      "[88/100]: loss_d: 0.000, loss_g: 18.109\n",
      "Training Steps Completed:  499\n",
      "6\n"
     ]
    },
    {
     "data": {
      "image/png": "[encoded data removed]",
      "text/plain": [
       "<Figure size 432x288 with 1 Axes>"
      ]
     },
     "metadata": {
      "needs_background": "light"
     },
     "output_type": "display_data"
    },
    {
     "name": "stdout",
     "output_type": "stream",
     "text": [
      "[89/100]: loss_d: 0.000, loss_g: 18.157\n",
      "[90/100]: loss_d: 0.000, loss_g: 18.695\n",
      "[91/100]: loss_d: 0.000, loss_g: 19.675\n",
      "[92/100]: loss_d: 0.000, loss_g: 19.719\n",
      "[93/100]: loss_d: 0.000, loss_g: 28.653\n",
      "[94/100]: loss_d: 0.003, loss_g: 35.321\n",
      "[95/100]: loss_d: 0.003, loss_g: 16.474\n",
      "[96/100]: loss_d: 0.001, loss_g: 19.662\n",
      "[97/100]: loss_d: 0.000, loss_g: 22.595\n",
      "[98/100]: loss_d: 0.000, loss_g: 18.945\n",
      "Training Steps Completed:  499\n",
      "7\n"
     ]
    },
    {
     "data": {
      "image/png": "[encoded data removed]",
      "text/plain": [
       "<Figure size 432x288 with 1 Axes>"
      ]
     },
     "metadata": {
      "needs_background": "light"
     },
     "output_type": "display_data"
    },
    {
     "name": "stdout",
     "output_type": "stream",
     "text": [
      "[99/100]: loss_d: 0.000, loss_g: 17.449\n"
     ]
    }
   ],
   "source": [
    "discriminator1 = DiscriminatorModel1()\n",
    "generator2 = GeneratorModel2()\n",
    "discriminator1.to(device) \n",
    "generator2.to(device)\n",
    "train(generator2, discriminator1, data_loader, model_name='g2_d1')"
   ]
  },
  {
   "cell_type": "code",
   "execution_count": 95,
   "metadata": {},
   "outputs": [
    {
     "data": {
      "image/png": "[encoded data removed]",
      "text/plain": [
       "<Figure size 1440x144 with 10 Axes>"
      ]
     },
     "metadata": {
      "needs_background": "light"
     },
     "output_type": "display_data"
    }
   ],
   "source": [
    "draw_images('g2_d1.pt')"
   ]
  },
  {
   "cell_type": "code",
   "execution_count": 96,
   "metadata": {
    "collapsed": true,
    "jupyter": {
     "outputs_hidden": true
    }
   },
   "outputs": [
    {
     "name": "stdout",
     "output_type": "stream",
     "text": [
      "[0/100]: loss_d: 0.503, loss_g: 2.114\n",
      "[1/100]: loss_d: 0.607, loss_g: 1.330\n",
      "[2/100]: loss_d: 0.610, loss_g: 1.516\n",
      "[3/100]: loss_d: 0.579, loss_g: 1.357\n",
      "[4/100]: loss_d: 0.516, loss_g: 1.438\n",
      "[5/100]: loss_d: 0.380, loss_g: 2.216\n",
      "[6/100]: loss_d: 0.331, loss_g: 2.320\n",
      "[7/100]: loss_d: 0.337, loss_g: 2.156\n",
      "[8/100]: loss_d: 0.305, loss_g: 2.379\n",
      "Training Steps Completed:  499\n",
      "8\n"
     ]
    },
    {
     "data": {
      "image/png": "[encoded data removed]",
      "text/plain": [
       "<Figure size 432x288 with 1 Axes>"
      ]
     },
     "metadata": {
      "needs_background": "light"
     },
     "output_type": "display_data"
    },
    {
     "name": "stdout",
     "output_type": "stream",
     "text": [
      "[9/100]: loss_d: 0.281, loss_g: 2.781\n",
      "[10/100]: loss_d: 0.250, loss_g: 2.853\n",
      "[11/100]: loss_d: 0.166, loss_g: 3.856\n",
      "[12/100]: loss_d: 0.104, loss_g: 5.172\n",
      "[13/100]: loss_d: 0.102, loss_g: 5.319\n",
      "[14/100]: loss_d: 0.043, loss_g: 7.374\n",
      "[15/100]: loss_d: 0.007, loss_g: 11.045\n",
      "[16/100]: loss_d: 0.005, loss_g: 11.792\n",
      "[17/100]: loss_d: 0.003, loss_g: 12.627\n",
      "[18/100]: loss_d: 0.003, loss_g: 13.619\n",
      "Training Steps Completed:  499\n",
      "1\n"
     ]
    },
    {
     "data": {
      "image/png": "[encoded data removed]",
      "text/plain": [
       "<Figure size 432x288 with 1 Axes>"
      ]
     },
     "metadata": {
      "needs_background": "light"
     },
     "output_type": "display_data"
    },
    {
     "name": "stdout",
     "output_type": "stream",
     "text": [
      "[19/100]: loss_d: 0.001, loss_g: 17.391\n",
      "[20/100]: loss_d: 0.002, loss_g: 20.670\n",
      "[21/100]: loss_d: 0.003, loss_g: 16.742\n",
      "[22/100]: loss_d: 0.000, loss_g: 18.323\n",
      "[23/100]: loss_d: 0.000, loss_g: 22.494\n",
      "[24/100]: loss_d: 0.000, loss_g: 23.455\n",
      "[25/100]: loss_d: 0.000, loss_g: 22.647\n",
      "[26/100]: loss_d: 0.000, loss_g: 24.103\n",
      "[27/100]: loss_d: 0.000, loss_g: 25.269\n",
      "[28/100]: loss_d: 0.009, loss_g: 17.747\n",
      "Training Steps Completed:  499\n",
      "2\n"
     ]
    },
    {
     "data": {
      "image/png": "[encoded data removed]",
      "text/plain": [
       "<Figure size 432x288 with 1 Axes>"
      ]
     },
     "metadata": {
      "needs_background": "light"
     },
     "output_type": "display_data"
    },
    {
     "name": "stdout",
     "output_type": "stream",
     "text": [
      "[29/100]: loss_d: 0.002, loss_g: 16.453\n",
      "[30/100]: loss_d: 0.001, loss_g: 17.032\n",
      "[31/100]: loss_d: 0.000, loss_g: 18.838\n",
      "[32/100]: loss_d: 0.000, loss_g: 20.565\n",
      "[33/100]: loss_d: 0.002, loss_g: 20.902\n",
      "[34/100]: loss_d: 0.002, loss_g: 16.494\n",
      "[35/100]: loss_d: 0.000, loss_g: 18.248\n",
      "[36/100]: loss_d: 0.000, loss_g: 19.985\n",
      "[37/100]: loss_d: 0.000, loss_g: 21.373\n",
      "[38/100]: loss_d: 0.000, loss_g: 23.075\n",
      "Training Steps Completed:  499\n",
      "8\n"
     ]
    },
    {
     "data": {
      "image/png": "[encoded data removed]",
      "text/plain": [
       "<Figure size 432x288 with 1 Axes>"
      ]
     },
     "metadata": {
      "needs_background": "light"
     },
     "output_type": "display_data"
    },
    {
     "name": "stdout",
     "output_type": "stream",
     "text": [
      "[39/100]: loss_d: 0.001, loss_g: 21.354\n",
      "[40/100]: loss_d: 0.000, loss_g: 25.245\n",
      "[41/100]: loss_d: 0.000, loss_g: 21.533\n",
      "[42/100]: loss_d: 0.000, loss_g: 23.802\n",
      "[43/100]: loss_d: 0.000, loss_g: 27.323\n",
      "[44/100]: loss_d: 0.000, loss_g: 27.591\n",
      "[45/100]: loss_d: 0.000, loss_g: 25.580\n",
      "[46/100]: loss_d: 0.000, loss_g: 25.413\n",
      "[47/100]: loss_d: 0.000, loss_g: 26.158\n",
      "[48/100]: loss_d: 0.000, loss_g: 26.846\n",
      "Training Steps Completed:  499\n",
      "7\n"
     ]
    },
    {
     "data": {
      "image/png": "[encoded data removed]",
      "text/plain": [
       "<Figure size 432x288 with 1 Axes>"
      ]
     },
     "metadata": {
      "needs_background": "light"
     },
     "output_type": "display_data"
    },
    {
     "name": "stdout",
     "output_type": "stream",
     "text": [
      "[49/100]: loss_d: 0.000, loss_g: 27.678\n",
      "[50/100]: loss_d: 0.000, loss_g: 28.017\n",
      "[51/100]: loss_d: 0.000, loss_g: 28.149\n",
      "[52/100]: loss_d: 0.000, loss_g: 28.594\n",
      "[53/100]: loss_d: 0.000, loss_g: 28.860\n",
      "[54/100]: loss_d: 0.000, loss_g: 28.086\n",
      "[55/100]: loss_d: 0.000, loss_g: 28.963\n",
      "[56/100]: loss_d: 0.000, loss_g: 30.539\n",
      "[57/100]: loss_d: 0.000, loss_g: 30.936\n",
      "[58/100]: loss_d: 0.000, loss_g: 31.153\n",
      "Training Steps Completed:  499\n",
      "9\n"
     ]
    },
    {
     "data": {
      "image/png": "[encoded data removed]",
      "text/plain": [
       "<Figure size 432x288 with 1 Axes>"
      ]
     },
     "metadata": {
      "needs_background": "light"
     },
     "output_type": "display_data"
    },
    {
     "name": "stdout",
     "output_type": "stream",
     "text": [
      "[59/100]: loss_d: 0.004, loss_g: 41.317\n",
      "[60/100]: loss_d: 0.000, loss_g: 77.263\n",
      "[61/100]: loss_d: 0.000, loss_g: 76.058\n",
      "[62/100]: loss_d: 0.000, loss_g: 74.688\n",
      "[63/100]: loss_d: 0.000, loss_g: 74.868\n",
      "[64/100]: loss_d: 0.000, loss_g: 75.496\n",
      "[65/100]: loss_d: 0.000, loss_g: 74.792\n",
      "[66/100]: loss_d: 0.000, loss_g: 74.812\n",
      "[67/100]: loss_d: 0.000, loss_g: 73.850\n",
      "[68/100]: loss_d: 0.000, loss_g: 73.258\n",
      "Training Steps Completed:  499\n",
      "3\n"
     ]
    },
    {
     "data": {
      "image/png": "[encoded data removed]",
      "text/plain": [
       "<Figure size 432x288 with 1 Axes>"
      ]
     },
     "metadata": {
      "needs_background": "light"
     },
     "output_type": "display_data"
    },
    {
     "name": "stdout",
     "output_type": "stream",
     "text": [
      "[69/100]: loss_d: 0.003, loss_g: 56.340\n",
      "[70/100]: loss_d: 0.000, loss_g: 17.004\n",
      "[71/100]: loss_d: 0.000, loss_g: 18.554\n",
      "[72/100]: loss_d: 0.000, loss_g: 20.312\n",
      "[73/100]: loss_d: 0.000, loss_g: 20.827\n",
      "[74/100]: loss_d: 0.002, loss_g: 18.533\n",
      "[75/100]: loss_d: 0.000, loss_g: 19.384\n",
      "[76/100]: loss_d: 0.000, loss_g: 19.128\n",
      "[77/100]: loss_d: 0.001, loss_g: 18.550\n",
      "[78/100]: loss_d: 0.000, loss_g: 19.129\n",
      "Training Steps Completed:  499\n",
      "9\n"
     ]
    },
    {
     "data": {
      "image/png": "[encoded data removed]",
      "text/plain": [
       "<Figure size 432x288 with 1 Axes>"
      ]
     },
     "metadata": {
      "needs_background": "light"
     },
     "output_type": "display_data"
    },
    {
     "name": "stdout",
     "output_type": "stream",
     "text": [
      "[79/100]: loss_d: 0.000, loss_g: 24.458\n",
      "[80/100]: loss_d: 0.000, loss_g: 25.844\n",
      "[81/100]: loss_d: 0.000, loss_g: 26.421\n",
      "[82/100]: loss_d: 0.000, loss_g: 27.020\n",
      "[83/100]: loss_d: 0.000, loss_g: 27.237\n",
      "[84/100]: loss_d: 0.000, loss_g: 28.308\n",
      "[85/100]: loss_d: 0.001, loss_g: 30.191\n",
      "[86/100]: loss_d: 0.000, loss_g: 40.825\n",
      "[87/100]: loss_d: 0.000, loss_g: 41.263\n",
      "[88/100]: loss_d: 0.000, loss_g: 41.681\n",
      "Training Steps Completed:  499\n",
      "1\n"
     ]
    },
    {
     "data": {
      "image/png": "[encoded data removed]",
      "text/plain": [
       "<Figure size 432x288 with 1 Axes>"
      ]
     },
     "metadata": {
      "needs_background": "light"
     },
     "output_type": "display_data"
    },
    {
     "name": "stdout",
     "output_type": "stream",
     "text": [
      "[89/100]: loss_d: 0.000, loss_g: 42.657\n",
      "[90/100]: loss_d: 0.000, loss_g: 42.452\n",
      "[91/100]: loss_d: 0.000, loss_g: 42.037\n",
      "[92/100]: loss_d: 0.000, loss_g: 41.699\n",
      "[93/100]: loss_d: 0.000, loss_g: 41.617\n",
      "[94/100]: loss_d: 0.000, loss_g: 41.575\n",
      "[95/100]: loss_d: 0.000, loss_g: 41.339\n",
      "[96/100]: loss_d: 0.000, loss_g: 41.320\n",
      "[97/100]: loss_d: 0.000, loss_g: 41.214\n",
      "[98/100]: loss_d: 0.000, loss_g: 41.529\n",
      "Training Steps Completed:  499\n",
      "3\n"
     ]
    },
    {
     "data": {
      "image/png": "[encoded data removed]",
      "text/plain": [
       "<Figure size 432x288 with 1 Axes>"
      ]
     },
     "metadata": {
      "needs_background": "light"
     },
     "output_type": "display_data"
    },
    {
     "name": "stdout",
     "output_type": "stream",
     "text": [
      "[99/100]: loss_d: 0.000, loss_g: 41.880\n"
     ]
    }
   ],
   "source": [
    "discriminator1 = DiscriminatorModel1()\n",
    "generator3 = GeneratorModel3()\n",
    "discriminator1.to(device) \n",
    "generator3.to(device)\n",
    "train(generator3, discriminator1, data_loader, model_name='g3_d1')"
   ]
  },
  {
   "cell_type": "code",
   "execution_count": 97,
   "metadata": {},
   "outputs": [
    {
     "data": {
      "image/png": "[encoded data removed]",
      "text/plain": [
       "<Figure size 1440x144 with 10 Axes>"
      ]
     },
     "metadata": {
      "needs_background": "light"
     },
     "output_type": "display_data"
    }
   ],
   "source": [
    "draw_images('g3_d1.pt')"
   ]
  },
  {
   "cell_type": "code",
   "execution_count": 98,
   "metadata": {
    "collapsed": true,
    "jupyter": {
     "outputs_hidden": true
    }
   },
   "outputs": [
    {
     "name": "stdout",
     "output_type": "stream",
     "text": [
      "[0/100]: loss_d: 0.476, loss_g: 3.799\n",
      "[1/100]: loss_d: 0.302, loss_g: 5.088\n",
      "[2/100]: loss_d: 0.227, loss_g: 7.712\n",
      "[3/100]: loss_d: 0.212, loss_g: 11.077\n",
      "[4/100]: loss_d: 0.093, loss_g: 9.156\n",
      "[5/100]: loss_d: 0.116, loss_g: 6.297\n",
      "[6/100]: loss_d: 0.086, loss_g: 8.591\n",
      "[7/100]: loss_d: 0.071, loss_g: 8.278\n",
      "[8/100]: loss_d: 0.060, loss_g: 10.396\n",
      "Training Steps Completed:  499\n",
      "8\n"
     ]
    },
    {
     "data": {
      "image/png": "[encoded data removed]",
      "text/plain": [
       "<Figure size 432x288 with 1 Axes>"
      ]
     },
     "metadata": {
      "needs_background": "light"
     },
     "output_type": "display_data"
    },
    {
     "name": "stdout",
     "output_type": "stream",
     "text": [
      "[9/100]: loss_d: 0.068, loss_g: 8.697\n",
      "[10/100]: loss_d: 0.025, loss_g: 10.595\n",
      "[11/100]: loss_d: 0.021, loss_g: 12.974\n",
      "[12/100]: loss_d: 0.006, loss_g: 14.282\n",
      "[13/100]: loss_d: 0.002, loss_g: 16.761\n",
      "[14/100]: loss_d: 0.005, loss_g: 33.961\n",
      "[15/100]: loss_d: 0.001, loss_g: 17.348\n",
      "[16/100]: loss_d: 0.000, loss_g: 20.065\n",
      "[17/100]: loss_d: 0.000, loss_g: 23.861\n",
      "[18/100]: loss_d: 0.000, loss_g: 27.649\n",
      "Training Steps Completed:  499\n",
      "2\n"
     ]
    },
    {
     "data": {
      "image/png": "[encoded data removed]",
      "text/plain": [
       "<Figure size 432x288 with 1 Axes>"
      ]
     },
     "metadata": {
      "needs_background": "light"
     },
     "output_type": "display_data"
    },
    {
     "name": "stdout",
     "output_type": "stream",
     "text": [
      "[19/100]: loss_d: 0.000, loss_g: 35.952\n",
      "[20/100]: loss_d: 0.000, loss_g: 32.849\n",
      "[21/100]: loss_d: 0.000, loss_g: 33.186\n",
      "[22/100]: loss_d: 0.000, loss_g: 33.930\n",
      "[23/100]: loss_d: 0.000, loss_g: 34.300\n",
      "[24/100]: loss_d: 0.000, loss_g: 34.725\n",
      "[25/100]: loss_d: 0.000, loss_g: 34.921\n",
      "[26/100]: loss_d: 0.000, loss_g: 35.051\n",
      "[27/100]: loss_d: 0.008, loss_g: 35.980\n",
      "[28/100]: loss_d: 0.002, loss_g: 31.268\n",
      "Training Steps Completed:  499\n",
      "6\n"
     ]
    },
    {
     "data": {
      "image/png": "[encoded data removed]",
      "text/plain": [
       "<Figure size 432x288 with 1 Axes>"
      ]
     },
     "metadata": {
      "needs_background": "light"
     },
     "output_type": "display_data"
    },
    {
     "name": "stdout",
     "output_type": "stream",
     "text": [
      "[29/100]: loss_d: 0.000, loss_g: 23.712\n",
      "[30/100]: loss_d: 0.000, loss_g: 23.980\n",
      "[31/100]: loss_d: 0.000, loss_g: 24.708\n",
      "[32/100]: loss_d: 0.000, loss_g: 25.020\n",
      "[33/100]: loss_d: 0.000, loss_g: 25.545\n",
      "[34/100]: loss_d: 0.000, loss_g: 26.310\n",
      "[35/100]: loss_d: 0.000, loss_g: 26.760\n",
      "[36/100]: loss_d: 0.000, loss_g: 29.498\n",
      "[37/100]: loss_d: 0.000, loss_g: 28.504\n",
      "[38/100]: loss_d: 0.000, loss_g: 28.368\n",
      "Training Steps Completed:  499\n",
      "2\n"
     ]
    },
    {
     "data": {
      "image/png": "[encoded data removed]",
      "text/plain": [
       "<Figure size 432x288 with 1 Axes>"
      ]
     },
     "metadata": {
      "needs_background": "light"
     },
     "output_type": "display_data"
    },
    {
     "name": "stdout",
     "output_type": "stream",
     "text": [
      "[39/100]: loss_d: 0.000, loss_g: 30.371\n",
      "[40/100]: loss_d: 0.000, loss_g: 32.885\n",
      "[41/100]: loss_d: 0.000, loss_g: 31.172\n",
      "[42/100]: loss_d: 0.000, loss_g: 31.189\n",
      "[43/100]: loss_d: 0.000, loss_g: 30.927\n",
      "[44/100]: loss_d: 0.000, loss_g: 30.858\n",
      "[45/100]: loss_d: 0.000, loss_g: 31.848\n",
      "[46/100]: loss_d: 0.000, loss_g: 32.540\n",
      "[47/100]: loss_d: 0.000, loss_g: 33.272\n",
      "[48/100]: loss_d: 0.000, loss_g: 33.477\n",
      "Training Steps Completed:  499\n",
      "7\n"
     ]
    },
    {
     "data": {
      "image/png": "[encoded data removed]",
      "text/plain": [
       "<Figure size 432x288 with 1 Axes>"
      ]
     },
     "metadata": {
      "needs_background": "light"
     },
     "output_type": "display_data"
    },
    {
     "name": "stdout",
     "output_type": "stream",
     "text": [
      "[49/100]: loss_d: 0.000, loss_g: 33.567\n",
      "[50/100]: loss_d: 0.000, loss_g: 33.975\n",
      "[51/100]: loss_d: 0.000, loss_g: 35.778\n",
      "[52/100]: loss_d: 0.000, loss_g: 36.104\n",
      "[53/100]: loss_d: 0.000, loss_g: 37.232\n",
      "[54/100]: loss_d: 0.000, loss_g: 36.700\n",
      "[55/100]: loss_d: 0.000, loss_g: 36.385\n",
      "[56/100]: loss_d: 0.000, loss_g: 37.765\n",
      "[57/100]: loss_d: 0.000, loss_g: 40.585\n",
      "[58/100]: loss_d: 0.000, loss_g: 41.361\n",
      "Training Steps Completed:  499\n",
      "4\n"
     ]
    },
    {
     "data": {
      "image/png": "[encoded data removed]",
      "text/plain": [
       "<Figure size 432x288 with 1 Axes>"
      ]
     },
     "metadata": {
      "needs_background": "light"
     },
     "output_type": "display_data"
    },
    {
     "name": "stdout",
     "output_type": "stream",
     "text": [
      "[59/100]: loss_d: 0.000, loss_g: 41.791\n",
      "[60/100]: loss_d: 0.000, loss_g: 41.941\n",
      "[61/100]: loss_d: 0.000, loss_g: 42.022\n",
      "[62/100]: loss_d: 0.000, loss_g: 42.160\n",
      "[63/100]: loss_d: 0.000, loss_g: 42.694\n",
      "[64/100]: loss_d: 0.000, loss_g: 42.378\n",
      "[65/100]: loss_d: 0.000, loss_g: 42.798\n",
      "[66/100]: loss_d: 0.000, loss_g: 51.155\n",
      "[67/100]: loss_d: 0.000, loss_g: 51.288\n",
      "[68/100]: loss_d: 0.000, loss_g: 49.468\n",
      "Training Steps Completed:  499\n",
      "3\n"
     ]
    },
    {
     "data": {
      "image/png": "[encoded data removed]",
      "text/plain": [
       "<Figure size 432x288 with 1 Axes>"
      ]
     },
     "metadata": {
      "needs_background": "light"
     },
     "output_type": "display_data"
    },
    {
     "name": "stdout",
     "output_type": "stream",
     "text": [
      "[69/100]: loss_d: 0.000, loss_g: 49.120\n",
      "[70/100]: loss_d: 0.000, loss_g: 48.653\n",
      "[71/100]: loss_d: 0.000, loss_g: 48.923\n",
      "[72/100]: loss_d: 0.000, loss_g: 49.796\n",
      "[73/100]: loss_d: 0.000, loss_g: 49.670\n",
      "[74/100]: loss_d: 0.000, loss_g: 49.684\n",
      "[75/100]: loss_d: 0.000, loss_g: 49.704\n",
      "[76/100]: loss_d: 0.000, loss_g: 49.511\n",
      "[77/100]: loss_d: 0.000, loss_g: 49.500\n",
      "[78/100]: loss_d: 0.000, loss_g: 49.524\n",
      "Training Steps Completed:  499\n",
      "3\n"
     ]
    },
    {
     "data": {
      "image/png": "[encoded data removed]",
      "text/plain": [
       "<Figure size 432x288 with 1 Axes>"
      ]
     },
     "metadata": {
      "needs_background": "light"
     },
     "output_type": "display_data"
    },
    {
     "name": "stdout",
     "output_type": "stream",
     "text": [
      "[79/100]: loss_d: 0.000, loss_g: 49.507\n",
      "[80/100]: loss_d: 0.000, loss_g: 49.629\n",
      "[81/100]: loss_d: 0.000, loss_g: 49.569\n",
      "[82/100]: loss_d: 0.000, loss_g: 49.514\n",
      "[83/100]: loss_d: 0.000, loss_g: 46.888\n",
      "[84/100]: loss_d: 0.000, loss_g: 49.180\n",
      "[85/100]: loss_d: 0.000, loss_g: 49.145\n",
      "[86/100]: loss_d: 0.000, loss_g: 49.203\n",
      "[87/100]: loss_d: 0.000, loss_g: 49.113\n",
      "[88/100]: loss_d: 0.000, loss_g: 49.241\n",
      "Training Steps Completed:  499\n",
      "0\n"
     ]
    },
    {
     "data": {
      "image/png": "[encoded data removed]",
      "text/plain": [
       "<Figure size 432x288 with 1 Axes>"
      ]
     },
     "metadata": {
      "needs_background": "light"
     },
     "output_type": "display_data"
    },
    {
     "name": "stdout",
     "output_type": "stream",
     "text": [
      "[89/100]: loss_d: 0.000, loss_g: 49.231\n",
      "[90/100]: loss_d: 0.000, loss_g: 49.279\n",
      "[91/100]: loss_d: 0.000, loss_g: 49.337\n",
      "[92/100]: loss_d: 0.000, loss_g: 49.263\n",
      "[93/100]: loss_d: 0.000, loss_g: 49.322\n",
      "[94/100]: loss_d: 0.000, loss_g: 49.374\n",
      "[95/100]: loss_d: 0.000, loss_g: 49.449\n",
      "[96/100]: loss_d: 0.000, loss_g: 49.650\n",
      "[97/100]: loss_d: 0.000, loss_g: 49.715\n",
      "[98/100]: loss_d: 0.000, loss_g: 49.942\n",
      "Training Steps Completed:  499\n",
      "0\n"
     ]
    },
    {
     "data": {
      "image/png": "[encoded data removed]",
      "text/plain": [
       "<Figure size 432x288 with 1 Axes>"
      ]
     },
     "metadata": {
      "needs_background": "light"
     },
     "output_type": "display_data"
    },
    {
     "name": "stdout",
     "output_type": "stream",
     "text": [
      "[99/100]: loss_d: 0.000, loss_g: 49.939\n"
     ]
    }
   ],
   "source": [
    "discriminator1 = DiscriminatorModel1()\n",
    "generator4 = GeneratorModel4()\n",
    "discriminator1.to(device) \n",
    "generator4.to(device)\n",
    "train(generator4, discriminator1, data_loader, model_name='g4_d1')"
   ]
  },
  {
   "cell_type": "code",
   "execution_count": 99,
   "metadata": {},
   "outputs": [
    {
     "data": {
      "image/png": "[encoded data removed]",
      "text/plain": [
       "<Figure size 1440x144 with 10 Axes>"
      ]
     },
     "metadata": {
      "needs_background": "light"
     },
     "output_type": "display_data"
    }
   ],
   "source": [
    "draw_images('g4_d1.pt')"
   ]
  },
  {
   "cell_type": "code",
   "execution_count": 100,
   "metadata": {
    "collapsed": true,
    "jupyter": {
     "outputs_hidden": true
    }
   },
   "outputs": [
    {
     "name": "stdout",
     "output_type": "stream",
     "text": [
      "[0/100]: loss_d: 0.131, loss_g: 7.095\n",
      "[1/100]: loss_d: 0.341, loss_g: 4.476\n",
      "[2/100]: loss_d: 0.359, loss_g: 3.919\n",
      "[3/100]: loss_d: 0.203, loss_g: 4.146\n",
      "[4/100]: loss_d: 0.177, loss_g: 3.898\n",
      "[5/100]: loss_d: 0.167, loss_g: 3.858\n",
      "[6/100]: loss_d: 0.175, loss_g: 3.915\n",
      "[7/100]: loss_d: 0.222, loss_g: 3.399\n",
      "[8/100]: loss_d: 0.236, loss_g: 3.176\n",
      "Training Steps Completed:  499\n",
      "3\n"
     ]
    },
    {
     "data": {
      "image/png": "[encoded data removed]",
      "text/plain": [
       "<Figure size 432x288 with 1 Axes>"
      ]
     },
     "metadata": {
      "needs_background": "light"
     },
     "output_type": "display_data"
    },
    {
     "name": "stdout",
     "output_type": "stream",
     "text": [
      "[9/100]: loss_d: 0.281, loss_g: 2.751\n",
      "[10/100]: loss_d: 0.334, loss_g: 2.439\n",
      "[11/100]: loss_d: 0.358, loss_g: 2.172\n",
      "[12/100]: loss_d: 0.374, loss_g: 2.103\n",
      "[13/100]: loss_d: 0.379, loss_g: 2.075\n",
      "[14/100]: loss_d: 0.413, loss_g: 1.883\n",
      "[15/100]: loss_d: 0.402, loss_g: 1.898\n",
      "[16/100]: loss_d: 0.420, loss_g: 1.825\n",
      "[17/100]: loss_d: 0.419, loss_g: 1.816\n",
      "[18/100]: loss_d: 0.456, loss_g: 1.645\n",
      "Training Steps Completed:  499\n",
      "5\n"
     ]
    },
    {
     "data": {
      "image/png": "[encoded data removed]",
      "text/plain": [
       "<Figure size 432x288 with 1 Axes>"
      ]
     },
     "metadata": {
      "needs_background": "light"
     },
     "output_type": "display_data"
    },
    {
     "name": "stdout",
     "output_type": "stream",
     "text": [
      "[19/100]: loss_d: 0.466, loss_g: 1.578\n",
      "[20/100]: loss_d: 0.471, loss_g: 1.554\n",
      "[21/100]: loss_d: 0.472, loss_g: 1.555\n",
      "[22/100]: loss_d: 0.498, loss_g: 1.422\n",
      "[23/100]: loss_d: 0.502, loss_g: 1.406\n",
      "[24/100]: loss_d: 0.508, loss_g: 1.359\n",
      "[25/100]: loss_d: 0.519, loss_g: 1.362\n",
      "[26/100]: loss_d: 0.528, loss_g: 1.315\n",
      "[27/100]: loss_d: 0.537, loss_g: 1.253\n",
      "[28/100]: loss_d: 0.541, loss_g: 1.251\n",
      "Training Steps Completed:  499\n",
      "6\n"
     ]
    },
    {
     "data": {
      "image/png": "[encoded data removed]",
      "text/plain": [
       "<Figure size 432x288 with 1 Axes>"
      ]
     },
     "metadata": {
      "needs_background": "light"
     },
     "output_type": "display_data"
    },
    {
     "name": "stdout",
     "output_type": "stream",
     "text": [
      "[29/100]: loss_d: 0.545, loss_g: 1.244\n",
      "[30/100]: loss_d: 0.547, loss_g: 1.237\n",
      "[31/100]: loss_d: 0.563, loss_g: 1.164\n",
      "[32/100]: loss_d: 0.554, loss_g: 1.187\n",
      "[33/100]: loss_d: 0.565, loss_g: 1.154\n",
      "[34/100]: loss_d: 0.571, loss_g: 1.133\n",
      "[35/100]: loss_d: 0.565, loss_g: 1.147\n",
      "[36/100]: loss_d: 0.575, loss_g: 1.114\n",
      "[37/100]: loss_d: 0.575, loss_g: 1.113\n",
      "[38/100]: loss_d: 0.576, loss_g: 1.095\n",
      "Training Steps Completed:  499\n",
      "5\n"
     ]
    },
    {
     "data": {
      "image/png": "[encoded data removed]",
      "text/plain": [
       "<Figure size 432x288 with 1 Axes>"
      ]
     },
     "metadata": {
      "needs_background": "light"
     },
     "output_type": "display_data"
    },
    {
     "name": "stdout",
     "output_type": "stream",
     "text": [
      "[39/100]: loss_d: 0.581, loss_g: 1.094\n",
      "[40/100]: loss_d: 0.577, loss_g: 1.112\n",
      "[41/100]: loss_d: 0.590, loss_g: 1.060\n",
      "[42/100]: loss_d: 0.589, loss_g: 1.055\n",
      "[43/100]: loss_d: 0.584, loss_g: 1.088\n",
      "[44/100]: loss_d: 0.583, loss_g: 1.083\n",
      "[45/100]: loss_d: 0.596, loss_g: 1.035\n",
      "[46/100]: loss_d: 0.605, loss_g: 1.007\n",
      "[47/100]: loss_d: 0.605, loss_g: 1.002\n",
      "[48/100]: loss_d: 0.608, loss_g: 0.991\n",
      "Training Steps Completed:  499\n",
      "5\n"
     ]
    },
    {
     "data": {
      "image/png": "[encoded data removed]",
      "text/plain": [
       "<Figure size 432x288 with 1 Axes>"
      ]
     },
     "metadata": {
      "needs_background": "light"
     },
     "output_type": "display_data"
    },
    {
     "name": "stdout",
     "output_type": "stream",
     "text": [
      "[49/100]: loss_d: 0.608, loss_g: 0.992\n",
      "[50/100]: loss_d: 0.607, loss_g: 0.997\n",
      "[51/100]: loss_d: 0.609, loss_g: 0.984\n",
      "[52/100]: loss_d: 0.613, loss_g: 0.977\n",
      "[53/100]: loss_d: 0.611, loss_g: 0.983\n",
      "[54/100]: loss_d: 0.613, loss_g: 0.967\n",
      "[55/100]: loss_d: 0.616, loss_g: 0.968\n",
      "[56/100]: loss_d: 0.613, loss_g: 0.980\n",
      "[57/100]: loss_d: 0.620, loss_g: 0.951\n",
      "[58/100]: loss_d: 0.611, loss_g: 0.967\n",
      "Training Steps Completed:  499\n",
      "4\n"
     ]
    },
    {
     "data": {
      "image/png": "[encoded data removed]",
      "text/plain": [
       "<Figure size 432x288 with 1 Axes>"
      ]
     },
     "metadata": {
      "needs_background": "light"
     },
     "output_type": "display_data"
    },
    {
     "name": "stdout",
     "output_type": "stream",
     "text": [
      "[59/100]: loss_d: 0.624, loss_g: 0.937\n",
      "[60/100]: loss_d: 0.624, loss_g: 0.938\n",
      "[61/100]: loss_d: 0.625, loss_g: 0.928\n",
      "[62/100]: loss_d: 0.621, loss_g: 0.949\n",
      "[63/100]: loss_d: 0.627, loss_g: 0.917\n",
      "[64/100]: loss_d: 0.628, loss_g: 0.921\n",
      "[65/100]: loss_d: 0.627, loss_g: 0.924\n",
      "[66/100]: loss_d: 0.628, loss_g: 0.927\n",
      "[67/100]: loss_d: 0.628, loss_g: 0.913\n",
      "[68/100]: loss_d: 0.630, loss_g: 0.916\n",
      "Training Steps Completed:  499\n",
      "3\n"
     ]
    },
    {
     "data": {
      "image/png": "[encoded data removed]",
      "text/plain": [
       "<Figure size 432x288 with 1 Axes>"
      ]
     },
     "metadata": {
      "needs_background": "light"
     },
     "output_type": "display_data"
    },
    {
     "name": "stdout",
     "output_type": "stream",
     "text": [
      "[69/100]: loss_d: 0.626, loss_g: 0.927\n",
      "[70/100]: loss_d: 0.626, loss_g: 0.934\n",
      "[71/100]: loss_d: 0.621, loss_g: 0.946\n",
      "[72/100]: loss_d: 0.633, loss_g: 0.895\n",
      "[73/100]: loss_d: 0.642, loss_g: 0.872\n",
      "[74/100]: loss_d: 0.637, loss_g: 0.895\n",
      "[75/100]: loss_d: 0.634, loss_g: 0.911\n",
      "[76/100]: loss_d: 0.637, loss_g: 0.899\n",
      "[77/100]: loss_d: 0.623, loss_g: 0.951\n",
      "[78/100]: loss_d: 0.631, loss_g: 0.912\n",
      "Training Steps Completed:  499\n",
      "7\n"
     ]
    },
    {
     "data": {
      "image/png": "[encoded data removed]",
      "text/plain": [
       "<Figure size 432x288 with 1 Axes>"
      ]
     },
     "metadata": {
      "needs_background": "light"
     },
     "output_type": "display_data"
    },
    {
     "name": "stdout",
     "output_type": "stream",
     "text": [
      "[79/100]: loss_d: 0.638, loss_g: 0.892\n",
      "[80/100]: loss_d: 0.641, loss_g: 0.883\n",
      "[81/100]: loss_d: 0.639, loss_g: 0.885\n",
      "[82/100]: loss_d: 0.642, loss_g: 0.877\n",
      "[83/100]: loss_d: 0.648, loss_g: 0.857\n",
      "[84/100]: loss_d: 0.640, loss_g: 0.889\n",
      "[85/100]: loss_d: 0.641, loss_g: 0.882\n",
      "[86/100]: loss_d: 0.640, loss_g: 0.887\n",
      "[87/100]: loss_d: 0.642, loss_g: 0.877\n",
      "[88/100]: loss_d: 0.641, loss_g: 0.898\n",
      "Training Steps Completed:  499\n",
      "1\n"
     ]
    },
    {
     "data": {
      "image/png": "[encoded data removed]",
      "text/plain": [
       "<Figure size 432x288 with 1 Axes>"
      ]
     },
     "metadata": {
      "needs_background": "light"
     },
     "output_type": "display_data"
    },
    {
     "name": "stdout",
     "output_type": "stream",
     "text": [
      "[89/100]: loss_d: 0.643, loss_g: 0.871\n",
      "[90/100]: loss_d: 0.647, loss_g: 0.865\n",
      "[91/100]: loss_d: 0.647, loss_g: 0.870\n",
      "[92/100]: loss_d: 0.643, loss_g: 0.866\n",
      "[93/100]: loss_d: 0.646, loss_g: 0.859\n",
      "[94/100]: loss_d: 0.648, loss_g: 0.857\n",
      "[95/100]: loss_d: 0.648, loss_g: 0.867\n",
      "[96/100]: loss_d: 0.644, loss_g: 0.874\n",
      "[97/100]: loss_d: 0.649, loss_g: 0.855\n",
      "[98/100]: loss_d: 0.646, loss_g: 0.872\n",
      "Training Steps Completed:  499\n",
      "4\n"
     ]
    },
    {
     "data": {
      "image/png": "[encoded data removed]",
      "text/plain": [
       "<Figure size 432x288 with 1 Axes>"
      ]
     },
     "metadata": {
      "needs_background": "light"
     },
     "output_type": "display_data"
    },
    {
     "name": "stdout",
     "output_type": "stream",
     "text": [
      "[99/100]: loss_d: 0.649, loss_g: 0.848\n"
     ]
    }
   ],
   "source": [
    "discriminator2 = DiscriminatorModel2()\n",
    "generator1 = GeneratorModel1()\n",
    "discriminator2.to(device) \n",
    "generator1.to(device)\n",
    "train(generator1, discriminator2, data_loader, model_name='g1_d2')"
   ]
  },
  {
   "cell_type": "code",
   "execution_count": 101,
   "metadata": {},
   "outputs": [
    {
     "data": {
      "image/png": "[encoded data removed]",
      "text/plain": [
       "<Figure size 1440x144 with 10 Axes>"
      ]
     },
     "metadata": {
      "needs_background": "light"
     },
     "output_type": "display_data"
    }
   ],
   "source": [
    "draw_images('g1_d2.pt')"
   ]
  }
 ],
 "metadata": {
  "interpreter": {
   "hash": "31f2aee4e71d21fbe5cf8b01ff0e069b9275f58929596ceb00d14d90e3e16cd6"
  },
  "kernelspec": {
   "display_name": "Python 3.6.9 64-bit",
   "language": "python",
   "name": "python3"
  },
  "language_info": {
   "codemirror_mode": {
    "name": "ipython",
    "version": 3
   },
   "file_extension": ".py",
   "mimetype": "text/x-python",
   "name": "python",
   "nbconvert_exporter": "python",
   "pygments_lexer": "ipython3",
   "version": "3.6.9"
  }
 },
 "nbformat": 4,
 "nbformat_minor": 4
}
